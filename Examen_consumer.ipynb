{
  "cells": [
    {
      "cell_type": "markdown",
      "metadata": {
        "id": "view-in-github",
        "colab_type": "text"
      },
      "source": [
        "<a href=\"https://colab.research.google.com/github/MauBarcena/Examen_1_Mauricio_Barcena/blob/main/Examen_consumer.ipynb\" target=\"_parent\"><img src=\"https://colab.research.google.com/assets/colab-badge.svg\" alt=\"Open In Colab\"/></a>"
      ]
    },
    {
      "cell_type": "code",
      "execution_count": null,
      "metadata": {
        "id": "O6TjSr4cb3gH"
      },
      "outputs": [],
      "source": [
        "import pandas as pd\n",
        "import numpy as np\n",
        "import matplotlib.pyplot as plt"
      ]
    },
    {
      "cell_type": "code",
      "execution_count": 95,
      "metadata": {
        "id": "U3yIAnVKcEY6",
        "colab": {
          "base_uri": "https://localhost:8080/",
          "height": 1000
        },
        "outputId": "a1572bc2-93af-4da9-c4c6-6233342722e4"
      },
      "outputs": [
        {
          "output_type": "display_data",
          "data": {
            "text/plain": [
              "<IPython.core.display.HTML object>"
            ],
            "text/html": [
              "\n",
              "     <input type=\"file\" id=\"files-d862908b-6a78-4794-a779-4c561cafc6c8\" name=\"files[]\" multiple disabled\n",
              "        style=\"border:none\" />\n",
              "     <output id=\"result-d862908b-6a78-4794-a779-4c561cafc6c8\">\n",
              "      Upload widget is only available when the cell has been executed in the\n",
              "      current browser session. Please rerun this cell to enable.\n",
              "      </output>\n",
              "      <script>// Copyright 2017 Google LLC\n",
              "//\n",
              "// Licensed under the Apache License, Version 2.0 (the \"License\");\n",
              "// you may not use this file except in compliance with the License.\n",
              "// You may obtain a copy of the License at\n",
              "//\n",
              "//      http://www.apache.org/licenses/LICENSE-2.0\n",
              "//\n",
              "// Unless required by applicable law or agreed to in writing, software\n",
              "// distributed under the License is distributed on an \"AS IS\" BASIS,\n",
              "// WITHOUT WARRANTIES OR CONDITIONS OF ANY KIND, either express or implied.\n",
              "// See the License for the specific language governing permissions and\n",
              "// limitations under the License.\n",
              "\n",
              "/**\n",
              " * @fileoverview Helpers for google.colab Python module.\n",
              " */\n",
              "(function(scope) {\n",
              "function span(text, styleAttributes = {}) {\n",
              "  const element = document.createElement('span');\n",
              "  element.textContent = text;\n",
              "  for (const key of Object.keys(styleAttributes)) {\n",
              "    element.style[key] = styleAttributes[key];\n",
              "  }\n",
              "  return element;\n",
              "}\n",
              "\n",
              "// Max number of bytes which will be uploaded at a time.\n",
              "const MAX_PAYLOAD_SIZE = 100 * 1024;\n",
              "\n",
              "function _uploadFiles(inputId, outputId) {\n",
              "  const steps = uploadFilesStep(inputId, outputId);\n",
              "  const outputElement = document.getElementById(outputId);\n",
              "  // Cache steps on the outputElement to make it available for the next call\n",
              "  // to uploadFilesContinue from Python.\n",
              "  outputElement.steps = steps;\n",
              "\n",
              "  return _uploadFilesContinue(outputId);\n",
              "}\n",
              "\n",
              "// This is roughly an async generator (not supported in the browser yet),\n",
              "// where there are multiple asynchronous steps and the Python side is going\n",
              "// to poll for completion of each step.\n",
              "// This uses a Promise to block the python side on completion of each step,\n",
              "// then passes the result of the previous step as the input to the next step.\n",
              "function _uploadFilesContinue(outputId) {\n",
              "  const outputElement = document.getElementById(outputId);\n",
              "  const steps = outputElement.steps;\n",
              "\n",
              "  const next = steps.next(outputElement.lastPromiseValue);\n",
              "  return Promise.resolve(next.value.promise).then((value) => {\n",
              "    // Cache the last promise value to make it available to the next\n",
              "    // step of the generator.\n",
              "    outputElement.lastPromiseValue = value;\n",
              "    return next.value.response;\n",
              "  });\n",
              "}\n",
              "\n",
              "/**\n",
              " * Generator function which is called between each async step of the upload\n",
              " * process.\n",
              " * @param {string} inputId Element ID of the input file picker element.\n",
              " * @param {string} outputId Element ID of the output display.\n",
              " * @return {!Iterable<!Object>} Iterable of next steps.\n",
              " */\n",
              "function* uploadFilesStep(inputId, outputId) {\n",
              "  const inputElement = document.getElementById(inputId);\n",
              "  inputElement.disabled = false;\n",
              "\n",
              "  const outputElement = document.getElementById(outputId);\n",
              "  outputElement.innerHTML = '';\n",
              "\n",
              "  const pickedPromise = new Promise((resolve) => {\n",
              "    inputElement.addEventListener('change', (e) => {\n",
              "      resolve(e.target.files);\n",
              "    });\n",
              "  });\n",
              "\n",
              "  const cancel = document.createElement('button');\n",
              "  inputElement.parentElement.appendChild(cancel);\n",
              "  cancel.textContent = 'Cancel upload';\n",
              "  const cancelPromise = new Promise((resolve) => {\n",
              "    cancel.onclick = () => {\n",
              "      resolve(null);\n",
              "    };\n",
              "  });\n",
              "\n",
              "  // Wait for the user to pick the files.\n",
              "  const files = yield {\n",
              "    promise: Promise.race([pickedPromise, cancelPromise]),\n",
              "    response: {\n",
              "      action: 'starting',\n",
              "    }\n",
              "  };\n",
              "\n",
              "  cancel.remove();\n",
              "\n",
              "  // Disable the input element since further picks are not allowed.\n",
              "  inputElement.disabled = true;\n",
              "\n",
              "  if (!files) {\n",
              "    return {\n",
              "      response: {\n",
              "        action: 'complete',\n",
              "      }\n",
              "    };\n",
              "  }\n",
              "\n",
              "  for (const file of files) {\n",
              "    const li = document.createElement('li');\n",
              "    li.append(span(file.name, {fontWeight: 'bold'}));\n",
              "    li.append(span(\n",
              "        `(${file.type || 'n/a'}) - ${file.size} bytes, ` +\n",
              "        `last modified: ${\n",
              "            file.lastModifiedDate ? file.lastModifiedDate.toLocaleDateString() :\n",
              "                                    'n/a'} - `));\n",
              "    const percent = span('0% done');\n",
              "    li.appendChild(percent);\n",
              "\n",
              "    outputElement.appendChild(li);\n",
              "\n",
              "    const fileDataPromise = new Promise((resolve) => {\n",
              "      const reader = new FileReader();\n",
              "      reader.onload = (e) => {\n",
              "        resolve(e.target.result);\n",
              "      };\n",
              "      reader.readAsArrayBuffer(file);\n",
              "    });\n",
              "    // Wait for the data to be ready.\n",
              "    let fileData = yield {\n",
              "      promise: fileDataPromise,\n",
              "      response: {\n",
              "        action: 'continue',\n",
              "      }\n",
              "    };\n",
              "\n",
              "    // Use a chunked sending to avoid message size limits. See b/62115660.\n",
              "    let position = 0;\n",
              "    do {\n",
              "      const length = Math.min(fileData.byteLength - position, MAX_PAYLOAD_SIZE);\n",
              "      const chunk = new Uint8Array(fileData, position, length);\n",
              "      position += length;\n",
              "\n",
              "      const base64 = btoa(String.fromCharCode.apply(null, chunk));\n",
              "      yield {\n",
              "        response: {\n",
              "          action: 'append',\n",
              "          file: file.name,\n",
              "          data: base64,\n",
              "        },\n",
              "      };\n",
              "\n",
              "      let percentDone = fileData.byteLength === 0 ?\n",
              "          100 :\n",
              "          Math.round((position / fileData.byteLength) * 100);\n",
              "      percent.textContent = `${percentDone}% done`;\n",
              "\n",
              "    } while (position < fileData.byteLength);\n",
              "  }\n",
              "\n",
              "  // All done.\n",
              "  yield {\n",
              "    response: {\n",
              "      action: 'complete',\n",
              "    }\n",
              "  };\n",
              "}\n",
              "\n",
              "scope.google = scope.google || {};\n",
              "scope.google.colab = scope.google.colab || {};\n",
              "scope.google.colab._files = {\n",
              "  _uploadFiles,\n",
              "  _uploadFilesContinue,\n",
              "};\n",
              "})(self);\n",
              "</script> "
            ]
          },
          "metadata": {}
        },
        {
          "output_type": "stream",
          "name": "stdout",
          "text": [
            "Saving consumer.csv to consumer (1).csv\n"
          ]
        },
        {
          "output_type": "execute_result",
          "data": {
            "text/plain": [
              "{'consumer.csv': b'\"_record_id\",\"_title\",\"_server_updated_at\",\"_updated_by\",\"_geometry\",\"_latitude\",\"_longitude\",\"282_payment_method_that_purchase\",\"283_fulfill_needs\",\"300_did_not_find\",\"237_distance_household_interviewee\",\"299_means_transportation_consumer\",\"238_frequency_buying_store\",\"284_additional_products_store\",\"301_electricity_bill\",\"305_electricity_bill_store\",\"302_water_bill\",\"306_water_bill_store\",\"303_gas_bill\",\"307_gas_bill_store\",\"286_topups\",\"308_topups_in_store\",\"287_wire_transfers\",\"309_wiretransfers_in_store\",\"320_other_services_in_store\",\"304_additional_services_store\",\"81_number_online_purchases_month\",\"288_number_app_purchases_month\",\"289_number_whatsapp_purchases_month\",\"83_willingness_ultrafast_delivery\",\"84_willingness_sameday_delivery\",\"241_age_of_the_interviewee\",\"240_gender_interviewee\",\"indicate_the_type_of_store\",\"name_of_the_store\",\"storefront_picture_just_once_if_possible\"\\n\"060a856c-e3b8-41a7-b680-9756172d1c29\",\"November 12, 2022\",\"2022-11-12 22:43:08 UTC\",\"Ulises N\\xc3\\xba\\xc3\\xb1ez Bautista\",\"SRID=4326;POINT(-98.2349802856 19.0598413203)\",\"19.0598413203\",\"-98.2349802856\",\"Efectivo\",\"no\",\"agua de coco\",\"0 a 3 cuadras\",\"A pie\",\"1\",\"\",\"Tienda de conveniencia (e.g. OXXO)\",\"no\",\"Sistema de agua\",\"no\",\"Proveedor de gas\",\"no\",\"No lo hago\",\"no\",\"Banco\",\"no\",\"no\",\"\",\"1\",\"0\",\"0\",\"0\",\"0\",\"35\",\"Male\",\"Cafeteria\",\"Paleteria El Carmen\",\"\"\\n\"c42fdf22-b93b-443e-8f46-6043613cb0c3\",\"November 12, 2022\",\"2022-11-12 22:15:02 UTC\",\"Salomon Abdala Perez\",\"SRID=4326;POINT(-98.2335660729 19.05847939)\",\"19.05847939\",\"-98.2335660729\",\"Efectivo\",\"yes\",\"\",\"7 a 10 cuadras\",\"A pie\",\"1\",\"\",\"Tienda de conveniencia (e.g. OXXO)\",\"no\",\"Sistema de agua\",\"no\",\"Proveedor de gas\",\"no\",\"Tienda de conveniencia (e.g. OXXO)\",\"no\",\"Banco\",\"no\",\"no\",\"\",\"1\",\"2\",\"0\",\"35\",\"50\",\"27\",\"Female\",\"Grocery store (aka. nanostore)\",\"Gerardo Sa\\xc3\\xa9nz\",\"\"\\n\"3ccaedc0-949e-4555-afad-b2e1d77c3219\",\"November 12, 2022\",\"2022-11-12 22:15:02 UTC\",\"Salomon Abdala Perez\",\"SRID=4326;POINT(-98.2303385023 19.0620767997)\",\"19.0620767997\",\"-98.2303385023\",\"Efectivo\",\"yes\",\"\",\"m\\xc3\\xa1s de 10 cuadras\",\"Autom\\xc3\\xb3vil\",\"1\",\"\",\"CFE\",\"yes\",\"Tienda de conveniencia (e.g. OXXO)\",\"yes\",\"Proveedor de gas\",\"yes\",\"Supermercado,Tienda de conveniencia (e.g. OXXO)\",\"yes\",\"Banco\",\"no\",\"no\",\"\",\"0\",\"0\",\"0\",\"40\",\"25\",\"42\",\"Female\",\"Micro-restaurant (aka. fondita)\",\"Rozt\",\"1 Photo\"\\n\"91d8a240-af2c-451b-900f-3480f82e05db\",\"November 12, 2022\",\"2022-11-12 20:41:38 UTC\",\"Jorge Alberto Ostorga Flores\",\"SRID=4326;POINT(-98.2329163449 19.0555346049)\",\"19.0555346049\",\"-98.2329163449\",\"Tarjeta de d\\xc3\\xa9bito y/o cr\\xc3\\xa9dito\",\"yes\",\"\",\"4 a 6 cuadras\",\"Motocicleta\",\"1\",\"\",\"Supermercado\",\"no\",\"Supermercado\",\"no\",\"Proveedor de gas\",\"no\",\"No lo hago\",\"no\",\"Banco\",\"no\",\"no\",\"\",\"2\",\"3\",\"0\",\"0\",\"0\",\"27\",\"Female\",\"Cafeteria\",\"Caf\\xc3\\xa9 Colibr\\xc3\\xad\",\"1 Photo\"\\n\"3efefc56-bd45-4e4a-bf02-ab725e9fb41a\",\"November 12, 2022\",\"2022-11-12 19:49:13 UTC\",\"Jorge Alberto Ostorga Flores\",\"SRID=4326;POINT(-98.2329944224 19.0590117522)\",\"19.0590117522\",\"-98.2329944224\",\"Efectivo\",\"yes\",\"\",\"m\\xc3\\xa1s de 10 cuadras\",\"Transporte p\\xc3\\xbablico\",\"1\",\"\",\"CFE\",\"no\",\"Supermercado\",\"no\",\"Proveedor de gas\",\"no\",\"Supermercado\",\"no\",\"No lo hago\",\"no\",\"no\",\"\",\"2\",\"5\",\"0\",\"0\",\"50\",\"35\",\"Female\",\"Cafeteria\",\"La f\\xc3\\xaate\",\"1 Photo\"\\n\"4b3d6f54-daee-4ffb-b0dc-dca0f9c1f943\",\"November 11, 2022\",\"2022-11-12 00:08:22 UTC\",\"Sergio Licea\",\"SRID=4326;POINT(-98.1972511858 19.0486443867)\",\"19.0486443867\",\"-98.1972511858\",\"Efectivo\",\"yes\",\"\",\"m\\xc3\\xa1s de 10 cuadras\",\"Transporte p\\xc3\\xbablico\",\"1\",\"\",\"CFE\",\"yes\",\"Banco\",\"yes\",\"Banco\",\"yes\",\"Tienda de conveniencia (e.g. OXXO)\",\"yes\",\"No lo hago\",\"no\",\"no\",\"\",\"0\",\"0\",\"0\",\"120\",\"70\",\"66\",\"Female\",\"Grocery store (aka. nanostore)\",\"Dulcer\\xc3\\xadas Candy\",\"1 Photo\"\\n\"44a828cf-2085-4889-bc34-0ade8ae6ed91\",\"November 11, 2022\",\"2022-11-11 23:38:10 UTC\",\"Sergio Licea\",\"SRID=4326;POINT(-98.1953940913 19.0476993375)\",\"19.0476993375\",\"-98.1953940913\",\"Efectivo\",\"yes\",\"\",\"m\\xc3\\xa1s de 10 cuadras\",\"Autom\\xc3\\xb3vil\",\"1\",\"\",\"Tienda de conveniencia (e.g. OXXO)\",\"no\",\"Sistema de agua\",\"no\",\"Tienda de conveniencia (e.g. OXXO)\",\"no\",\"Supermercado,Tienda de conveniencia (e.g. OXXO)\",\"yes\",\"Tienda de conveniencia (e.g. OXXO)\",\"no\",\"no\",\"\",\"1\",\"7\",\"2\",\"200\",\"100\",\"30\",\"Female\",\"Art\\xc3\\xadculos del hogar\",\"SUPER & ALMACENES AW\",\"1 Photo\"\\n\"3231569e-f89a-4904-88e5-a6939c8a2860\",\"November 4, 2022\",\"2022-11-11 23:12:50 UTC\",\"Hiram Jim\\xc3\\xa9nez\",\"SRID=4326;POINT(-98.3104972 19.0644612)\",\"19.0644612\",\"-98.3104972\",\"Efectivo\",\"yes\",\"\",\"m\\xc3\\xa1s de 10 cuadras\",\"Transporte p\\xc3\\xbablico\",\"1\",\"\",\"Tienda de conveniencia (e.g. OXXO)\",\"yes\",\"No lo hago,Sistema de agua\",\"yes\",\"Proveedor de gas\",\"yes\",\"Tienda de conveniencia (e.g. OXXO)\",\"yes\",\"No lo hago\",\"yes\",\"no\",\"\",\"1\",\"0\",\"0\",\"80\",\"80\",\"38\",\"Female\",\"Butcher shop\",\"Carniceria la sorpresa \",\"1 Photo\"\\n\"3a5b7111-ffaa-48b3-9ec4-125a94580b66\",\"November 9, 2022\",\"2022-11-11 22:08:26 UTC\",\"Jos\\xc3\\xa9 Varela\",\"SRID=4326;POINT(-98.3113835 19.060884)\",\"19.060884\",\"-98.3113835\",\"Efectivo\",\"yes\",\"\",\"7 a 10 cuadras\",\"A pie\",\"3\",\"\",\"CFE\",\"yes\",\"Sistema de agua\",\"yes\",\"Proveedor de gas\",\"yes\",\"Fonda,Tiendita\",\"\",\"Banco\",\"yes\",\"yes\",\"Ninguno\",\"0\",\"0\",\"0\",\"100\",\"100\",\"18\",\"Male\",\"Grocery store (aka. nanostore)\",\"Tienda Jaime\",\"1 Photo\"\\n\"70f001bf-b020-413f-967f-c7d558c9f6be\",\"November 10, 2022\",\"2022-11-11 17:23:45 UTC\",\"Manuel Flores\",\"SRID=4326;POINT(-98.2154550929 19.0183906637)\",\"19.0183906637\",\"-98.2154550929\",\"Efectivo\",\"yes\",\"\",\"0 a 3 cuadras\",\"A pie\",\"2\",\"\",\"Tienda de conveniencia (e.g. OXXO)\",\"yes\",\"No lo hago\",\"yes\",\"Tienda de conveniencia (e.g. OXXO)\",\"yes\",\"Tienda de conveniencia (e.g. OXXO),Tiendita\",\"\",\"Tienda de conveniencia (e.g. OXXO)\",\"yes\",\"no\",\"\",\"1\",\"4\",\"0\",\"8\",\"8\",\"20\",\"Female\",\"Grocery store (aka. nanostore)\",\"Frutas y snack bar\",\"2 Photos\"\\n\"0c23bf28-c128-48c6-b42e-c578c4e59862\",\"November 10, 2022\",\"2022-11-11 17:23:44 UTC\",\"Manuel Flores\",\"SRID=4326;POINT(-98.215541169 19.0183779545)\",\"19.0183779545\",\"-98.215541169\",\"Efectivo\",\"yes\",\"\",\"0 a 3 cuadras\",\"Autom\\xc3\\xb3vil\",\"5\",\"\",\"Tienda de conveniencia (e.g. OXXO)\",\"yes\",\"Sistema de agua\",\"yes\",\"Proveedor de gas\",\"yes\",\"No lo hago\",\"no\",\"No lo hago\",\"yes\",\"yes\",\"Papeleria\",\"2\",\"5\",\"0\",\"8\",\"8\",\"21\",\"Male\",\"Grocery store (aka. nanostore)\",\"Los 3 compadres\",\"1 Photo\"\\n\"8e205a60-697a-4332-8d75-3e4b0b78241b\",\"November 10, 2022\",\"2022-11-11 04:39:34 UTC\",\"Sergio Licea\",\"SRID=4326;POINT(-98.2007074 19.048506)\",\"19.048506\",\"-98.2007074\",\"Efectivo\",\"yes\",\"\",\"m\\xc3\\xa1s de 10 cuadras\",\"Transporte p\\xc3\\xbablico\",\"1\",\"\",\"CFE\",\"yes\",\"Sistema de agua\",\"yes\",\"Proveedor de gas\",\"yes\",\"Tienda de conveniencia (e.g. OXXO)\",\"yes\",\"Banco,Tienda de conveniencia (e.g. OXXO)\",\"yes\",\"yes\",\"Pago de luz, recargas telef\\xc3\\xb3nicas \",\"0\",\"0\",\"6\",\"200\",\"100\",\"32\",\"Female\",\"Grocery store (aka. nanostore)\",\"Dulceria La Econ\\xc3\\xb3mica \",\"\"\\n\"691fc5cc-0002-44b0-8fac-499ab192758e\",\"November 10, 2022\",\"2022-11-10 20:29:12 UTC\",\"Daniel Serrano\",\"SRID=4326;POINT(-98.2632802 19.0345269)\",\"19.0345269\",\"-98.2632802\",\"Efectivo\",\"yes\",\"\",\"0 a 3 cuadras\",\"A pie\",\"2\",\"\",\"CFE,Tiendita\",\"\",\"Sistema de agua,Tiendita\",\"\",\"Proveedor de gas\",\"no\",\"Tienda de conveniencia (e.g. OXXO),Tiendita\",\"\",\"Banco,Tienda de conveniencia (e.g. OXXO)\",\"no\",\"no\",\"\",\"1\",\"0\",\"0\",\"20\",\"0\",\"40\",\"Male\",\"Butcher shop\",\"Poller\\xc3\\xada \",\"1 Photo\"\\n\"fb68965b-edd7-4623-91dc-fd75c0d0be57\",\"November 10, 2022\",\"2022-11-10 20:25:37 UTC\",\"Daniel Serrano\",\"SRID=4326;POINT(-98.2632757723 19.0344490665)\",\"19.0344490665\",\"-98.2632757723\",\"Efectivo\",\"yes\",\"\",\"4 a 6 cuadras\",\"A pie\",\"2\",\"\",\"CFE\",\"no\",\"Sistema de agua\",\"no\",\"Proveedor de gas\",\"no\",\"Tienda de conveniencia (e.g. OXXO)\",\"yes\",\"Banco\",\"no\",\"no\",\"\",\"2\",\"0\",\"0\",\"15\",\"15\",\"30\",\"Female\",\"Butcher shop\",\"Poller\\xc3\\xada \",\"1 Photo\"\\n\"84679011-2e04-462b-8ef3-d219ad8bc841\",\"November 10, 2022\",\"2022-11-10 20:19:09 UTC\",\"Daniel Serrano\",\"SRID=4326;POINT(-98.2625455409 19.0356886303)\",\"19.0356886303\",\"-98.2625455409\",\"Efectivo\",\"yes\",\"\",\"4 a 6 cuadras\",\"A pie\",\"1\",\"\",\"CFE\",\"yes\",\"Sistema de agua\",\"yes\",\"Proveedor de gas\",\"no\",\"Tienda de conveniencia (e.g. OXXO),Tiendita\",\"\",\"Banco\",\"no\",\"yes\",\"Pago de servicios\",\"2\",\"1\",\"0\",\"25\",\"10\",\"35\",\"Male\",\"Grocery store (aka. nanostore)\",\"Urigama\",\"1 Photo\"\\n\"7733ef86-89bc-4ece-82ed-4b92366c07ab\",\"November 10, 2022\",\"2022-11-10 20:06:53 UTC\",\"Daniel Serrano\",\"SRID=4326;POINT(-98.2625173777 19.035646794)\",\"19.035646794\",\"-98.2625173777\",\"Efectivo\",\"yes\",\"\",\"4 a 6 cuadras\",\"A pie\",\"3\",\"\",\"No lo hago\",\"no\",\"No lo hago\",\"no\",\"No lo hago\",\"no\",\"No lo hago\",\"no\",\"No lo hago\",\"no\",\"no\",\"\",\"1\",\"0\",\"0\",\"25\",\"30\",\"14\",\"Male\",\"Grocery store (aka. nanostore)\",\"Urigama\",\"1 Photo\"\\n\"62be24fe-fb4e-4c2d-bccb-783e76b172e3\",\"November 10, 2022\",\"2022-11-10 20:01:37 UTC\",\"Daniel Serrano\",\"SRID=4326;POINT(-98.2624756 19.0357912)\",\"19.0357912\",\"-98.2624756\",\"Efectivo\",\"yes\",\"\",\"7 a 10 cuadras\",\"A pie\",\"1\",\"\",\"CFE\",\"no\",\"Sistema de agua\",\"no\",\"Proveedor de gas\",\"no\",\"Tienda de conveniencia (e.g. OXXO)\",\"no\",\"Banco\",\"no\",\"no\",\"\",\"2\",\"0\",\"0\",\"50\",\"20\",\"25\",\"Male\",\"Grocery store (aka. nanostore)\",\"Croqueter\\xc3\\xada & accesorios para tu mascota\",\"1 Photo\"\\n\"313e2efe-ab9b-48a1-be74-6dcc0b16d483\",\"November 10, 2022\",\"2022-11-10 19:56:19 UTC\",\"Daniel Serrano\",\"SRID=4326;POINT(-98.2623266056 19.0361783046)\",\"19.0361783046\",\"-98.2623266056\",\"Efectivo\",\"yes\",\"\",\"0 a 3 cuadras\",\"A pie\",\"2\",\"\",\"Supermercado,Tienda de conveniencia (e.g. OXXO),Tiendita\",\"\",\"Sistema de agua,Tienda de conveniencia (e.g. OXXO),Tiendita\",\"\",\"Proveedor de gas,Supermercado,Tienda de conveniencia (e.g. OXXO),Tiendita\",\"\",\"Tienda de conveniencia (e.g. OXXO),Tiendita\",\"\",\"Tienda de conveniencia (e.g. OXXO)\",\"no\",\"no\",\"\",\"0\",\"0\",\"0\",\"15\",\"15\",\"54\",\"Female\",\"Dairy products\",\"Don Beto \",\"1 Photo\"\\n\"3a0ae19e-eaae-4809-8029-c2c025f9045a\",\"November 10, 2022\",\"2022-11-10 19:50:41 UTC\",\"Manuel Flores\",\"SRID=4326;POINT(-98.2170814276 19.0197941918)\",\"19.0197941918\",\"-98.2170814276\",\"Efectivo\",\"yes\",\"\",\"0 a 3 cuadras\",\"A pie\",\"5\",\"\",\"Tienda de conveniencia (e.g. OXXO)\",\"no\",\"Banco\",\"no\",\"Banco,Tienda de conveniencia (e.g. OXXO)\",\"no\",\"Tienda de conveniencia (e.g. OXXO)\",\"yes\",\"Banco,Tienda de conveniencia (e.g. OXXO)\",\"no\",\"no\",\"\",\"2\",\"0\",\"0\",\"10\",\"10\",\"46\",\"Male\",\"Grocery store (aka. nanostore)\",\"La aztorga\",\"2 Photos\"\\n\"02e4f514-1de2-4dd5-b16e-e8f83a62ec1f\",\"November 10, 2022\",\"2022-11-10 19:50:36 UTC\",\"Daniel Serrano\",\"SRID=4326;POINT(-98.2626327127 19.0364229827)\",\"19.0364229827\",\"-98.2626327127\",\"Transferencia interbancaria\",\"no\",\"Pechugas\",\"4 a 6 cuadras\",\"A pie\",\"3\",\"Queso\",\"CFE,Tienda de conveniencia (e.g. OXXO)\",\"yes\",\"Sistema de agua\",\"yes\",\"Proveedor de gas\",\"yes\",\"No lo hago\",\"no\",\"Tienda de conveniencia (e.g. OXXO)\",\"no\",\"yes\",\"Pagos de servicios p\\xc3\\xbablicos y m\\xc3\\xa1s variedad de quesos\",\"0\",\"1\",\"0\",\"20\",\"20\",\"22\",\"Male\",\"Produce (fruits & vegetables)\",\"Poller\\xc3\\xada Rosi \",\"1 Photo\"\\n\"beb77ac6-85a0-4caf-a7e7-59996bcbbd7f\",\"November 10, 2022\",\"2022-11-10 19:42:10 UTC\",\"Daniel Serrano\",\"SRID=4326;POINT(-98.2626444474 19.0363551575)\",\"19.0363551575\",\"-98.2626444474\",\"Efectivo\",\"yes\",\"\",\"m\\xc3\\xa1s de 10 cuadras\",\"Autom\\xc3\\xb3vil\",\"2\",\"\",\"CFE\",\"no\",\"Sistema de agua\",\"no\",\"Proveedor de gas\",\"no\",\"No lo hago\",\"no\",\"No lo hago,transferencia \",\"no\",\"no\",\"\",\"3\",\"1\",\"0\",\"30\",\"15\",\"40\",\"Female\",\"Produce (fruits & vegetables)\",\"Poller\\xc3\\xada Rosi \",\"1 Photo\"\\n\"6570ebe1-68b9-4bee-aa1b-4606d486ff75\",\"November 10, 2022\",\"2022-11-10 19:33:38 UTC\",\"Fernando Gonz\\xc3\\xa1lezinactivo\",\"SRID=4326;POINT(-98.263451 19.0367483)\",\"19.0367483\",\"-98.263451\",\"Efectivo\",\"yes\",\"\",\"m\\xc3\\xa1s de 10 cuadras\",\"Autom\\xc3\\xb3vil\",\"1\",\"\",\"Tienda de conveniencia (e.g. OXXO)\",\"yes\",\"Internet\",\"yes\",\"Proveedor de gas\",\"no\",\"Tienda de conveniencia (e.g. OXXO)\",\"yes\",\"No lo hago\",\"no\",\"yes\",\"Pago de servicios\",\"2\",\"1\",\"0\",\"40\",\"20\",\"19\",\"Male\",\"Grocery store (aka. nanostore)\",\"Miscelanea Juquilita\",\"1 Photo\"\\n\"7470508d-e4ea-4a60-ab9e-b96f2f1dc4c8\",\"November 10, 2022\",\"2022-11-10 19:33:22 UTC\",\"Daniel Serrano\",\"SRID=4326;POINT(-98.2635697 19.0366637)\",\"19.0366637\",\"-98.2635697\",\"Efectivo\",\"yes\",\"\",\"4 a 6 cuadras\",\"A pie\",\"3\",\"\",\"CFE\",\"yes\",\"Sistema de agua\",\"yes\",\"Proveedor de gas\",\"yes\",\"Tienda de conveniencia (e.g. OXXO)\",\"yes\",\"Supermercado,Tienda de conveniencia (e.g. OXXO),Tiendita\",\"\",\"no\",\"\",\"0\",\"0\",\"0\",\"15\",\"30\",\"27\",\"Female\",\"Dairy products\",\"Misc. Juquilita \",\"1 Photo\"\\n\"e304cd5f-5ae8-4f7d-a7f6-c09e0094fb82\",\"November 3, 2022\",\"2022-11-10 00:58:39 UTC\",\"Fernando Gonz\\xc3\\xa1lezinactivo\",\"SRID=4326;POINT(-98.2641572133 19.0345641171)\",\"19.0345641171\",\"-98.2641572133\",\"Efectivo\",\"yes\",\"\",\"m\\xc3\\xa1s de 10 cuadras\",\"Transporte p\\xc3\\xbablico\",\"2\",\"\",\"No lo hago\",\"yes\",\"No lo hago\",\"yes\",\"No lo hago\",\"yes\",\"No lo hago\",\"yes\",\"No lo hago\",\"no\",\"no\",\"\",\"2\",\"5\",\"0\",\"150\",\"150\",\"18\",\"Male\",\"Grocery store (aka. nanostore)\",\"Minisuper Rayitas\",\"1 Photo\"\\n\"3ec7d304-f11a-431d-8731-6e2f29fbb85e\",\"November 3, 2022\",\"2022-11-10 00:58:39 UTC\",\"Fernando Gonz\\xc3\\xa1lezinactivo\",\"SRID=4326;POINT(-98.2666610554 19.0351390524)\",\"19.0351390524\",\"-98.2666610554\",\"Efectivo\",\"yes\",\"\",\"m\\xc3\\xa1s de 10 cuadras\",\"Transporte p\\xc3\\xbablico\",\"1\",\"\",\"No lo hago\",\"no\",\"No lo hago\",\"no\",\"No lo hago\",\"no\",\"No lo hago\",\"no\",\"No lo hago\",\"no\",\"no\",\"\",\"1\",\"0\",\"0\",\"100\",\"150\",\"18\",\"Male\",\"Grocery store (aka. nanostore)\",\"La Universal\",\"1 Photo\"\\n\"0ceecc2f-6bf6-4b37-a39a-d0089a18c0b5\",\"November 3, 2022\",\"2022-11-10 00:58:38 UTC\",\"Fernando Gonz\\xc3\\xa1lezinactivo\",\"SRID=4326;POINT(-98.2671411708 19.0352819935)\",\"19.0352819935\",\"-98.2671411708\",\"Tarjeta de d\\xc3\\xa9bito y/o cr\\xc3\\xa9dito\",\"yes\",\"\",\"m\\xc3\\xa1s de 10 cuadras\",\"Autom\\xc3\\xb3vil\",\"1\",\"\",\"No lo hago\",\"no\",\"No lo hago\",\"no\",\"No lo hago\",\"no\",\"No lo hago\",\"no\",\"No lo hago\",\"no\",\"no\",\"\",\"1\",\"0\",\"0\",\"100\",\"100\",\"15\",\"Male\",\"Micro-restaurant (aka. fondita)\",\"Taquer\\xc3\\xada Don Jorge\",\"1 Photo\"\\n\"0fbcf473-39af-4f09-a325-91a2d235ed4a\",\"November 7, 2022\",\"2022-11-10 00:01:22 UTC\",\"Leoncio Mora D\\xc3\\xadaz\",\"SRID=4326;POINT(-98.2488074989 19.0315343616)\",\"19.0315343616\",\"-98.2488074989\",\"Tarjeta de d\\xc3\\xa9bito y/o cr\\xc3\\xa9dito\",\"yes\",\"\",\"0 a 3 cuadras\",\"A pie\",\"1\",\"\",\"CFE\",\"no\",\"Sistema de agua\",\"no\",\"Proveedor de gas\",\"no\",\"No lo hago\",\"no\",\"Banco\",\"no\",\"no\",\"\",\"0\",\"0\",\"0\",\"50\",\"30\",\"75\",\"Male\",\"Grocery store (aka. nanostore)\",\"Aren sal\\xc3\\xb3n de belleza \",\"1 Photo\"\\n\"57358cdd-eb9f-43f6-94be-bcf79e0664e3\",\"November 7, 2022\",\"2022-11-10 00:01:22 UTC\",\"Leoncio Mora D\\xc3\\xadaz\",\"SRID=4326;POINT(-98.2492553477 19.0258156295)\",\"19.0258156295\",\"-98.2492553477\",\"Transferencia interbancaria\",\"yes\",\"\",\"7 a 10 cuadras\",\"Autom\\xc3\\xb3vil\",\"5\",\"\",\"App\",\"yes\",\"App\",\"yes\",\"Autom\\xc3\\xa1tico \",\"yes\",\"Plan \",\"yes\",\"Banco\",\"yes\",\"no\",\"\",\"8\",\"2\",\"0\",\"39\",\"0\",\"35\",\"Female\",\"Micro-restaurant (aka. fondita)\",\"Con sabor a hogar \",\"1 Photo\"\\n\"667e21ba-3e9f-4f4d-b23a-495986377506\",\"November 7, 2022\",\"2022-11-10 00:00:57 UTC\",\"Pablo Jes\\xc3\\xbas P\\xc3\\xa9rez Franklin\",\"SRID=4326;POINT(-98.2488052547 19.0319169806)\",\"19.0319169806\",\"-98.2488052547\",\"Tarjeta de d\\xc3\\xa9bito y/o cr\\xc3\\xa9dito\",\"yes\",\"\",\"m\\xc3\\xa1s de 10 cuadras\",\"Autom\\xc3\\xb3vil\",\"1\",\"\",\"Tienda de conveniencia (e.g. OXXO)\",\"yes\",\"Sistema de agua\",\"yes\",\"Proveedor de gas\",\"yes\",\"Tienda de conveniencia (e.g. OXXO)\",\"yes\",\"Banco,Tienda de conveniencia (e.g. OXXO)\",\"yes\",\"no\",\"\",\"2\",\"2\",\"0\",\"25\",\"25\",\"18\",\"Male\",\"Grocery store (aka. nanostore)\",\"SIX\",\"\"\\n\"44f08598-31d4-4172-ae01-5c3d6245aa09\",\"November 7, 2022\",\"2022-11-10 00:00:56 UTC\",\"Pablo Jes\\xc3\\xbas P\\xc3\\xa9rez Franklin\",\"SRID=4326;POINT(-98.2489068434 19.0313727784)\",\"19.0313727784\",\"-98.2489068434\",\"Efectivo\",\"yes\",\"\",\"m\\xc3\\xa1s de 10 cuadras\",\"Transporte p\\xc3\\xbablico\",\"1\",\"\",\"Tienda de conveniencia (e.g. OXXO)\",\"no\",\"Sistema de agua\",\"no\",\"Proveedor de gas\",\"no\",\"Tienda de conveniencia (e.g. OXXO)\",\"no\",\"Banco,Tienda de conveniencia (e.g. OXXO)\",\"no\",\"yes\",\"Pago con tarjeta\",\"1\",\"1\",\"2\",\"15\",\"60\",\"20\",\"Male\",\"Cafeteria\",\"Tortas el primo \",\"1 Photo\"\\n\"1e4edc4d-22ab-4a1d-86e2-04169ae02335\",\"November 7, 2022\",\"2022-11-10 00:00:56 UTC\",\"Pablo Jes\\xc3\\xbas P\\xc3\\xa9rez Franklin\",\"SRID=4326;POINT(-98.2494191453 19.0267601411)\",\"19.0267601411\",\"-98.2494191453\",\"Tarjeta de d\\xc3\\xa9bito y/o cr\\xc3\\xa9dito\",\"yes\",\"\",\"7 a 10 cuadras\",\"Autom\\xc3\\xb3vil\",\"1\",\"\",\"CFE\",\"no\",\"Sistema de agua,Tienda de conveniencia (e.g. OXXO)\",\"no\",\"Proveedor de gas\",\"no\",\"Tienda de conveniencia (e.g. OXXO)\",\"no\",\"Banco,Tienda de conveniencia (e.g. OXXO)\",\"no\",\"no\",\"\",\"5\",\"6\",\"3\",\"150\",\"200\",\"38\",\"Male\",\"Cafeteria\",\"DON MOY\",\"1 Photo\"\\n\"71df3b78-0538-44d6-a483-03111d32a2f0\",\"November 7, 2022\",\"2022-11-10 00:00:53 UTC\",\"Pablo Jes\\xc3\\xbas P\\xc3\\xa9rez Franklin\",\"SRID=4326;POINT(-98.2502124086 19.0265566535)\",\"19.0265566535\",\"-98.2502124086\",\"Efectivo\",\"yes\",\"\",\"0 a 3 cuadras\",\"A pie\",\"7\",\"\",\"Tienda de conveniencia (e.g. OXXO)\",\"yes\",\"Sistema de agua\",\"yes\",\"Proveedor de gas\",\"no\",\"Tienda de conveniencia (e.g. OXXO)\",\"yes\",\"Banco\",\"yes\",\"no\",\"\",\"0\",\"0\",\"0\",\"50\",\"50\",\"65\",\"Female\",\"Grocery store (aka. nanostore)\",\"FRUTAS, VERDURAS Y ABARROTES D\\xe2\\x80\\x99NYS\",\"1 Photo\"\\n\"5453a849-f695-4f4a-bb8e-0e81eabda7df\",\"November 7, 2022\",\"2022-11-10 00:00:52 UTC\",\"Pablo Jes\\xc3\\xbas P\\xc3\\xa9rez Franklin\",\"SRID=4326;POINT(-98.2492511719 19.0256704332)\",\"19.0256704332\",\"-98.2492511719\",\"Efectivo\",\"yes\",\"\",\"7 a 10 cuadras\",\"Autom\\xc3\\xb3vil\",\"4\",\"\",\"CFE,Celular (aplicaci\\xc3\\xb3n)\",\"yes\",\"Sistema de agua\",\"yes\",\"Proveedor de gas\",\"no\",\"Tienda de conveniencia (e.g. OXXO)\",\"yes\",\"Tienda de conveniencia (e.g. OXXO)\",\"no\",\"yes\",\"Servicio de recarga \",\"1\",\"0\",\"0\",\"50\",\"100\",\"42\",\"Female\",\"Produce (fruits & vegetables)\",\"ABARROTES FRUTAS Y VERDURAS \\xe2\\x80\\x9cHERN\\xc3\\x81NDEZ\\xe2\\x80\\x9d\",\"1 Photo\"\\n\"d97dbd74-c8fd-4388-ba5f-e1b875e5b86d\",\"November 7, 2022\",\"2022-11-10 00:00:52 UTC\",\"Pablo Jes\\xc3\\xbas P\\xc3\\xa9rez Franklin\",\"SRID=4326;POINT(-98.2491542771 19.025403552)\",\"19.025403552\",\"-98.2491542771\",\"Efectivo\",\"yes\",\"\",\"m\\xc3\\xa1s de 10 cuadras\",\"Autom\\xc3\\xb3vil\",\"4\",\"\",\"Aplicaci\\xc3\\xb3n \",\"\",\"Sistema de agua\",\"yes\",\"Proveedor de gas\",\"no\",\"Tienda de conveniencia (e.g. OXXO)\",\"yes\",\"No lo hago\",\"no\",\"yes\",\"Alimentos como pollo\",\"6\",\"4\",\"0\",\"50\",\"50\",\"50\",\"Male\",\"Grocery store (aka. nanostore)\",\"Miscel\\xc3\\xa1neas San Juditas\",\"1 Photo\"\\n\"d858040d-2adb-4830-84b4-407d0de306c8\",\"November 4, 2022\",\"2022-11-09 23:32:33 UTC\",\"Jos\\xc3\\xa9 Zapata\",\"SRID=4326;POINT(-98.217873 19.01854)\",\"19.01854\",\"-98.217873\",\"Efectivo\",\"yes\",\"\",\"0 a 3 cuadras\",\"A pie\",\"4\",\"\",\"CFE\",\"yes\",\"Sistema de agua\",\"yes\",\"Aplicaci\\xc3\\xb3n\",\"yes\",\"Tienda de conveniencia (e.g. OXXO)\",\"yes\",\"Tienda de conveniencia (e.g. OXXO)\",\"yes\",\"yes\",\"Pagos\",\"2\",\"2\",\"0\",\"30\",\"30\",\"20\",\"Male\",\"Grocery store (aka. nanostore)\",\"Recaudatt\\xc3\\xa1n\",\"1 Photo\"\\n\"93f89401-7f8b-4ef3-ba89-a3f407b4ef69\",\"November 9, 2022\",\"2022-11-09 23:19:13 UTC\",\"Amaranta Hern\\xc3\\xa1ndez\",\"SRID=4326;POINT(-98.166423887 19.072236547)\",\"19.072236547\",\"-98.166423887\",\"Efectivo\",\"yes\",\"\",\"0 a 3 cuadras\",\"A pie\",\"7\",\"\",\"CFE\",\"no\",\"Sistema de agua\",\"no\",\"Proveedor de gas\",\"no\",\"Farmacia ,Tienda de conveniencia (e.g. OXXO)\",\"yes\",\"No lo hago\",\"no\",\"no\",\"\",\"0\",\"0\",\"0\",\"0\",\"0\",\"67\",\"Female\",\"Grocery store (aka. nanostore)\",\"ILYA PAPELER\\xc3\\x8dA \",\"1 Photo\"\\n\"328e10e9-cc6d-47d5-8cee-1cc56e2201bd\",\"November 9, 2022\",\"2022-11-09 23:19:12 UTC\",\"Amaranta Hern\\xc3\\xa1ndez\",\"SRID=4326;POINT(-98.1656574458 19.0723740694)\",\"19.0723740694\",\"-98.1656574458\",\"Efectivo\",\"yes\",\"\",\"0 a 3 cuadras\",\"A pie\",\"5\",\"\",\"App\",\"no\",\"App\",\"no\",\"App\",\"\",\"App\",\"\",\"No lo hago\",\"no\",\"no\",\"\",\"3\",\"1\",\"0\",\"0\",\"0\",\"33\",\"Female\",\"Micro-restaurant (aka. fondita)\",\"Antojitos \",\"1 Photo\"\\n\"a952bc44-ff6f-4c68-828f-594566388269\",\"November 9, 2022\",\"2022-11-09 23:19:12 UTC\",\"Amaranta Hern\\xc3\\xa1ndez\",\"SRID=4326;POINT(-98.1666609272 19.0697383098)\",\"19.0697383098\",\"-98.1666609272\",\"Efectivo\",\"yes\",\"\",\"4 a 6 cuadras\",\"A pie\",\"2\",\"\",\"No lo hago\",\"no\",\"No lo hago\",\"no\",\"No lo hago\",\"no\",\"No lo hago\",\"no\",\"No lo hago\",\"no\",\"no\",\"\",\"2\",\"1\",\"0\",\"0\",\"0\",\"21\",\"Female\",\"Grocery store (aka. nanostore)\",\"El supercito \",\"1 Photo\"\\n\"84785c1b-15a9-4b2b-98e1-6d7f74277927\",\"November 9, 2022\",\"2022-11-09 23:19:11 UTC\",\"Amaranta Hern\\xc3\\xa1ndez\",\"SRID=4326;POINT(-98.1665194407 19.0696236004)\",\"19.0696236004\",\"-98.1665194407\",\"Efectivo\",\"yes\",\"\",\"m\\xc3\\xa1s de 10 cuadras\",\"Transporte p\\xc3\\xbablico\",\"1\",\"\",\"CFE,En l\\xc3\\xadnea \",\"no\",\"En l\\xc3\\xadnea \",\"no\",\"En l\\xc3\\xadnea ,Proveedor de gas\",\"no\",\"Tienda de conveniencia (e.g. OXXO)\",\"no\",\"No lo hago\",\"no\",\"no\",\"\",\"4\",\"9\",\"0\",\"0\",\"0\",\"18\",\"Female\",\"Micro-restaurant (aka. fondita)\",\"Caf\\xc3\\xa9 Donatelli\",\"1 Photo\"\\n\"49cfc1e7-8560-4aec-8973-d55b559e3336\",\"November 9, 2022\",\"2022-11-09 23:19:11 UTC\",\"Amaranta Hern\\xc3\\xa1ndez\",\"SRID=4326;POINT(-98.1676251814 19.0708933214)\",\"19.0708933214\",\"-98.1676251814\",\"Efectivo\",\"yes\",\"\",\"m\\xc3\\xa1s de 10 cuadras\",\"Transporte p\\xc3\\xbablico\",\"1\",\"\",\"CFE\",\"no\",\"Sistema de agua\",\"no\",\"Proveedor de gas\",\"no\",\"No lo hago\",\"no\",\"No lo hago\",\"no\",\"no\",\"\",\"2\",\"0\",\"0\",\"0\",\"0\",\"18\",\"Male\",\"Micro-restaurant (aka. fondita)\",\"(No tiene nombre) \",\"1 Photo\"\\n\"85c26824-a563-41eb-8bb4-1604e967d9bb\",\"November 9, 2022\",\"2022-11-09 23:19:10 UTC\",\"Amaranta Hern\\xc3\\xa1ndez\",\"SRID=4326;POINT(-98.1671138853 19.071234278)\",\"19.071234278\",\"-98.1671138853\",\"Efectivo\",\"yes\",\"\",\"m\\xc3\\xa1s de 10 cuadras\",\"Autom\\xc3\\xb3vil\",\"2\",\"\",\"CFE\",\"yes\",\"Sistema de agua\",\"yes\",\"Proveedor de gas\",\"yes\",\"Banco\",\"no\",\"No lo hago\",\"no\",\"no\",\"\",\"2\",\"5\",\"6\",\"200\",\"200\",\"20\",\"Male\",\"Grocery store (aka. nanostore)\",\"El Le\\xc3\\xb3n\",\"1 Photo\"\\n\"f16783bf-0337-40af-b4c2-bf40e9e0d78a\",\"November 9, 2022\",\"2022-11-09 23:19:10 UTC\",\"Amaranta Hern\\xc3\\xa1ndez\",\"SRID=4326;POINT(-98.1671024859 19.0712311093)\",\"19.0712311093\",\"-98.1671024859\",\"Efectivo\",\"yes\",\"\",\"m\\xc3\\xa1s de 10 cuadras\",\"Transporte p\\xc3\\xbablico\",\"1\",\"\",\"CFE\",\"yes\",\"Sistema de agua\",\"yes\",\"Proveedor de gas\",\"yes\",\"Tienda de conveniencia (e.g. OXXO)\",\"yes\",\"No lo hago\",\"no\",\"yes\",\"Pago de servicios \",\"0\",\"0\",\"0\",\"50\",\"50\",\"19\",\"Female\",\"Grocery store (aka. nanostore)\",\"El Le\\xc3\\xb3n \",\"1 Photo\"\\n\"8476942c-3475-4386-a2eb-57e8c7cac9ee\",\"November 9, 2022\",\"2022-11-09 23:19:09 UTC\",\"Amaranta Hern\\xc3\\xa1ndez\",\"SRID=4326;POINT(-98.1671789289 19.0711623476)\",\"19.0711623476\",\"-98.1671789289\",\"Efectivo\",\"yes\",\"\",\"m\\xc3\\xa1s de 10 cuadras\",\"Transporte p\\xc3\\xbablico\",\"2\",\"\",\"CFE\",\"no\",\"Sistema de agua\",\"no\",\"No lo hago\",\"no\",\"No lo hago\",\"no\",\"No lo hago\",\"no\",\"no\",\"\",\"0\",\"0\",\"0\",\"0\",\"0\",\"22\",\"Male\",\"Grocery store (aka. nanostore)\",\"La universitaria \",\"1 Photo\"\\n\"811a4e98-1f23-4410-8842-4a60c0dad15c\",\"November 9, 2022\",\"2022-11-09 23:19:09 UTC\",\"Amaranta Hern\\xc3\\xa1ndez\",\"SRID=4326;POINT(-98.1671712175 19.0711626645)\",\"19.0711626645\",\"-98.1671712175\",\"Efectivo\",\"yes\",\"\",\"m\\xc3\\xa1s de 10 cuadras\",\"Transporte p\\xc3\\xbablico\",\"1\",\"\",\"En l\\xc3\\xadnea \",\"no\",\"En l\\xc3\\xadnea \",\"no\",\"Proveedor de gas\",\"no\",\"En l\\xc3\\xadnea \",\"yes\",\"No lo hago\",\"no\",\"no\",\"\",\"4\",\"2\",\"0\",\"10\",\"10\",\"22\",\"Male\",\"Grocery store (aka. nanostore)\",\"La universitaria \",\"1 Photo\"\\n\"7a8c638f-c833-499f-90ef-8e01278d19e7\",\"November 9, 2022\",\"2022-11-09 23:19:08 UTC\",\"Amaranta Hern\\xc3\\xa1ndez\",\"SRID=4326;POINT(-98.1671775877 19.0711556933)\",\"19.0711556933\",\"-98.1671775877\",\"Efectivo\",\"yes\",\"\",\"m\\xc3\\xa1s de 10 cuadras\",\"Transporte p\\xc3\\xbablico\",\"3\",\"\",\"Tienda de conveniencia (e.g. OXXO)\",\"no\",\"No lo hago\",\"no\",\"Proveedor de gas\",\"no\",\"Tienda de conveniencia (e.g. OXXO)\",\"no\",\"No lo hago\",\"no\",\"no\",\"\",\"2\",\"3\",\"0\",\"0\",\"0\",\"19\",\"Female\",\"Grocery store (aka. nanostore)\",\"La universitaria \",\"1 Photo\"\\n\"b6f1ef8b-896f-49c5-9bb0-f0d542628ae1\",\"November 9, 2022\",\"2022-11-09 23:19:08 UTC\",\"Amaranta Hern\\xc3\\xa1ndez\",\"SRID=4326;POINT(-98.1676315516 19.0708949058)\",\"19.0708949058\",\"-98.1676315516\",\"Efectivo\",\"yes\",\"\",\"0 a 3 cuadras\",\"A pie\",\"2\",\"\",\"CFE\",\"yes\",\"Sistema de agua\",\"yes\",\"Proveedor de gas\",\"yes\",\"Banco\",\"yes\",\"Banco\",\"yes\",\"yes\",\"Servicios \",\"3\",\"10\",\"0\",\"50\",\"50\",\"22\",\"Male\",\"Micro-restaurant (aka. fondita)\",\"(No tiene nombre) \",\"1 Photo\"\\n\"e66a2d74-d4d1-4897-8a49-6f2af560080a\",\"November 9, 2022\",\"2022-11-09 23:19:07 UTC\",\"Amaranta Hern\\xc3\\xa1ndez\",\"SRID=4326;POINT(-98.1676261872 19.0708980745)\",\"19.0708980745\",\"-98.1676261872\",\"Efectivo\",\"yes\",\"\",\"7 a 10 cuadras\",\"A pie\",\"2\",\"\",\"Supermercado\",\"yes\",\"Sistema de agua\",\"yes\",\"Proveedor de gas\",\"yes\",\"Tienda de conveniencia (e.g. OXXO)\",\"yes\",\"Tienda de conveniencia (e.g. OXXO)\",\"yes\",\"yes\",\"Pago de servicios \",\"6\",\"5\",\"0\",\"40\",\"40\",\"20\",\"Male\",\"Micro-restaurant (aka. fondita)\",\"(No tiene nombre) \",\"1 Photo\"\\n\"3e5a3d58-b05e-4c44-bdb2-fe94ee01fcd4\",\"November 9, 2022\",\"2022-11-09 23:19:07 UTC\",\"Amaranta Hern\\xc3\\xa1ndez\",\"SRID=4326;POINT(-98.1676328927 19.0708936383)\",\"19.0708936383\",\"-98.1676328927\",\"Efectivo\",\"yes\",\"\",\"7 a 10 cuadras\",\"Autom\\xc3\\xb3vil\",\"2\",\"\",\"CFE\",\"no\",\"Sistema de agua\",\"no\",\"Proveedor de gas\",\"no\",\"Banco\",\"no\",\"Banco\",\"no\",\"no\",\"\",\"1\",\"8\",\"0\",\"50\",\"100\",\"18\",\"Male\",\"Micro-restaurant (aka. fondita)\",\"(No tiene nombre)\",\"1 Photo\"\\n\"014c8aaf-c970-47d4-96ff-1e4c1cc9cff5\",\"November 9, 2022\",\"2022-11-09 23:19:07 UTC\",\"Amaranta Hern\\xc3\\xa1ndez\",\"SRID=4326;POINT(-98.167602968 19.0706738863)\",\"19.0706738863\",\"-98.167602968\",\"Efectivo\",\"yes\",\"\",\"m\\xc3\\xa1s de 10 cuadras\",\"Autom\\xc3\\xb3vil\",\"1\",\"\",\"CFE\",\"no\",\"Sistema de agua\",\"no\",\"Proveedor de gas\",\"no\",\"Tienda de conveniencia (e.g. OXXO)\",\"no\",\"No lo hago\",\"no\",\"no\",\"\",\"5\",\"10\",\"0\",\"55\",\"55\",\"21\",\"Male\",\"Cafeteria\",\"Sagrado juguito \",\"\"\\n\"c0a17903-eff6-4e5c-8c45-de2dc0245cce\",\"November 9, 2022\",\"2022-11-09 23:19:06 UTC\",\"Amaranta Hern\\xc3\\xa1ndez\",\"SRID=4326;POINT(-98.1671702117 19.0711531583)\",\"19.0711531583\",\"-98.1671702117\",\"Efectivo\",\"yes\",\"\",\"0 a 3 cuadras\",\"Transporte p\\xc3\\xbablico\",\"1\",\"\",\"CFE\",\"no\",\"No lo hago\",\"no\",\"Proveedor de gas\",\"no\",\"No lo hago\",\"no\",\"No lo hago\",\"no\",\"no\",\"\",\"0\",\"1\",\"1\",\"5\",\"5\",\"22\",\"Female\",\"Grocery store (aka. nanostore)\",\"La universitaria \",\"1 Photo\"\\n\"b548980c-402b-46d3-8a36-85780245dfbf\",\"November 9, 2022\",\"2022-11-09 23:19:05 UTC\",\"Amaranta Hern\\xc3\\xa1ndez\",\"SRID=4326;POINT(-98.1670967862 19.0712510723)\",\"19.0712510723\",\"-98.1670967862\",\"Efectivo\",\"yes\",\"\",\"m\\xc3\\xa1s de 10 cuadras\",\"Transporte p\\xc3\\xbablico\",\"1\",\"\",\"CFE\",\"no\",\"Sistema de agua\",\"no\",\"Proveedor de gas\",\"no\",\"Tienda de conveniencia (e.g. OXXO)\",\"no\",\"No lo hago\",\"no\",\"no\",\"\",\"0\",\"3\",\"0\",\"100\",\"100\",\"21\",\"Male\",\"Produce (fruits & vegetables)\",\"Hermanos Gonzales \",\"1 Photo\"\\n\"f03fafe6-b525-48d7-afe2-6ba197f6df8b\",\"November 9, 2022\",\"2022-11-09 23:19:04 UTC\",\"Amaranta Hern\\xc3\\xa1ndez\",\"SRID=4326;POINT(-98.1671105325 19.0712311093)\",\"19.0712311093\",\"-98.1671105325\",\"Efectivo\",\"yes\",\"\",\"m\\xc3\\xa1s de 10 cuadras\",\"Transporte p\\xc3\\xbablico\",\"3\",\"\",\"CFE\",\"no\",\"Sistema de agua\",\"no\",\"Proveedor de gas\",\"no\",\"Tienda de conveniencia (e.g. OXXO)\",\"no\",\"No lo hago\",\"no\",\"no\",\"\",\"1\",\"0\",\"0\",\"0\",\"0\",\"18\",\"Male\",\"Grocery store (aka. nanostore)\",\"El Le\\xc3\\xb3n\",\"1 Photo\"\\n\"0b50be9b-8a66-4818-9241-22817feb9ae4\",\"November 9, 2022\",\"2022-11-09 23:19:04 UTC\",\"Amaranta Hern\\xc3\\xa1ndez\",\"SRID=4326;POINT(-98.1671112031 19.0712238212)\",\"19.0712238212\",\"-98.1671112031\",\"Efectivo\",\"yes\",\"\",\"m\\xc3\\xa1s de 10 cuadras\",\"Transporte p\\xc3\\xbablico\",\"3\",\"\",\"En l\\xc3\\xadnea \",\"no\",\"En l\\xc3\\xadnea \",\"no\",\"En l\\xc3\\xadnea \",\"no\",\"En l\\xc3\\xadnea \",\"no\",\"No lo hago\",\"no\",\"yes\",\"Servicio a domicilio \",\"7\",\"5\",\"0\",\"300\",\"300\",\"22\",\"Male\",\"Grocery store (aka. nanostore)\",\"El Le\\xc3\\xb3n\",\"1 Photo\"\\n\"acd7eff1-85ca-4d66-8bdc-94f064a9833e\",\"November 9, 2022\",\"2022-11-09 23:19:03 UTC\",\"Amaranta Hern\\xc3\\xa1ndez\",\"SRID=4326;POINT(-98.1671145558 19.0712269899)\",\"19.0712269899\",\"-98.1671145558\",\"Efectivo\",\"yes\",\"\",\"0 a 3 cuadras\",\"A pie\",\"2\",\"\",\"No lo hago\",\"no\",\"No lo hago\",\"no\",\"No lo hago\",\"no\",\"Tienda de conveniencia (e.g. OXXO)\",\"no\",\"No lo hago\",\"no\",\"yes\",\"Entrega a domicilio \",\"2\",\"1\",\"0\",\"50\",\"50\",\"24\",\"Male\",\"Grocery store (aka. nanostore)\",\"Tonter\\xc3\\xada y tienda \\xe2\\x80\\x9cEl Le\\xc3\\xb3n\\xe2\\x80\\x9d\",\"1 Photo\"\\n\"02c19dfb-29f0-44be-ae71-ab382da68658\",\"November 9, 2022\",\"2022-11-09 23:19:03 UTC\",\"Amaranta Hern\\xc3\\xa1ndez\",\"SRID=4326;POINT(-98.1672017276 19.0713759206)\",\"19.0713759206\",\"-98.1672017276\",\"Efectivo\",\"yes\",\"\",\"m\\xc3\\xa1s de 10 cuadras\",\"Transporte p\\xc3\\xbablico\",\"1\",\"\",\"Banco\",\"no\",\"Sistema de agua\",\"no\",\"Proveedor de gas\",\"no\",\"Tienda de conveniencia (e.g. OXXO)\",\"no\",\"No lo hago\",\"no\",\"no\",\"\",\"3\",\"0\",\"0\",\"0\",\"0\",\"22\",\"Male\",\"Grocery store (aka. nanostore)\",\"Loncher\\xc3\\xada Karina\",\"1 Photo\"\\n\"0f0c4409-0781-45a5-b834-e20839c4a36a\",\"November 9, 2022\",\"2022-11-09 23:19:02 UTC\",\"Amaranta Hern\\xc3\\xa1ndez\",\"SRID=4326;POINT(-98.1669915095 19.0716601559)\",\"19.0716601559\",\"-98.1669915095\",\"Efectivo\",\"yes\",\"\",\"0 a 3 cuadras\",\"A pie\",\"1\",\"\",\"No lo hago\",\"no\",\"No lo hago\",\"no\",\"No lo hago\",\"no\",\"Tienda de conveniencia (e.g. OXXO)\",\"no\",\"No lo hago\",\"no\",\"no\",\"\",\"0\",\"0\",\"0\",\"30\",\"30\",\"20\",\"Female\",\"Cafeteria\",\"Jugueria Cristy \",\"1 Photo\"\\n\"b9829918-2c20-4e66-8466-bec35eaabaed\",\"November 9, 2022\",\"2022-11-09 23:19:01 UTC\",\"Amaranta Hern\\xc3\\xa1ndez\",\"SRID=4326;POINT(-98.167033419 19.0716028019)\",\"19.0716028019\",\"-98.167033419\",\"Efectivo\",\"yes\",\"\",\"m\\xc3\\xa1s de 10 cuadras\",\"Transporte p\\xc3\\xbablico\",\"1\",\"\",\"En l\\xc3\\xadnea \",\"no\",\"En l\\xc3\\xadnea \",\"no\",\"Proveedor de gas\",\"no\",\"Tienda de conveniencia (e.g. OXXO)\",\"no\",\"Tienda de conveniencia (e.g. OXXO)\",\"no\",\"no\",\"\",\"0\",\"0\",\"0\",\"0\",\"0\",\"21\",\"Female\",\"Micro-restaurant (aka. fondita)\",\"Antojitos las biling\\xc3\\xbces \",\"1 Photo\"\\n\"51b17ed4-ab42-4e64-aaa5-b70218ff90ac\",\"November 9, 2022\",\"2022-11-09 23:19:00 UTC\",\"Amaranta Hern\\xc3\\xa1ndez\",\"SRID=4326;POINT(-98.1670367718 19.0716009007)\",\"19.0716009007\",\"-98.1670367718\",\"Efectivo\",\"yes\",\"\",\"7 a 10 cuadras\",\"Autom\\xc3\\xb3vil\",\"1\",\"\",\"CFE,Tienda de conveniencia (e.g. OXXO)\",\"\",\"Sistema de agua,Tienda de conveniencia (e.g. OXXO)\",\"no\",\"Tienda de conveniencia (e.g. OXXO)\",\"no\",\"Tienda de conveniencia (e.g. OXXO)\",\"no\",\"Tienda de conveniencia (e.g. OXXO)\",\"no\",\"no\",\"\",\"0\",\"0\",\"0\",\"0\",\"0\",\"45\",\"Male\",\"Micro-restaurant (aka. fondita)\",\"Antojitos las Biling\\xc3\\xbces \",\"1 Photo\"\\n\"fc30f1f5-5f82-4a09-8435-d4ad2f7d9b90\",\"November 9, 2022\",\"2022-11-09 23:12:54 UTC\",\"Gianluca De la rosa\",\"SRID=4326;POINT(-98.1655981019 19.0722847115)\",\"19.0722847115\",\"-98.1655981019\",\"Efectivo\",\"yes\",\"\",\"0 a 3 cuadras\",\"A pie\",\"6\",\"\",\"CFE,Supermercado\",\"yes\",\"Sistema de agua,Supermercado\",\"yes\",\"Proveedor de gas,Supermercado\",\"yes\",\"Fonda\",\"yes\",\"Banco\",\"yes\",\"yes\",\"\",\"0\",\"0\",\"0\",\"80\",\"0\",\"64\",\"Female\",\"Butcher shop\",\"La Esmeralda \",\"1 Photo\"\\n\"31a30cd8-15df-43c5-a6a9-037eb4dd53e1\",\"November 9, 2022\",\"2022-11-09 23:12:54 UTC\",\"Gianluca De la rosa\",\"SRID=4326;POINT(-98.1664822251 19.0696102916)\",\"19.0696102916\",\"-98.1664822251\",\"Efectivo\",\"yes\",\"\",\"0 a 3 cuadras\",\"A pie\",\"4\",\"\",\"CFE\",\"yes\",\"Sistema de agua\",\"yes\",\"Proveedor de gas\",\"yes\",\"Fonda\",\"yes\",\"Banco\",\"yes\",\"yes\",\"Pago de servicios \",\"2\",\"20\",\"2\",\"50\",\"500\",\"50\",\"Male\",\"Micro-restaurant (aka. fondita)\",\"Donatelli Caffe D\\xe2\\x80\\x99Amici\",\"1 Photo\"\\n\"312f228d-4803-4fc1-90c8-0a76470af6dd\",\"November 9, 2022\",\"2022-11-09 23:12:54 UTC\",\"Gianluca De la rosa\",\"SRID=4326;POINT(-98.1673499197 19.0709443382)\",\"19.0709443382\",\"-98.1673499197\",\"Efectivo\",\"yes\",\"\",\"m\\xc3\\xa1s de 10 cuadras\",\"Transporte p\\xc3\\xbablico\",\"1\",\"\",\"Tienda de conveniencia (e.g. OXXO)\",\"yes\",\"Tienda de conveniencia (e.g. OXXO)\",\"yes\",\"Tienda de conveniencia (e.g. OXXO)\",\"yes\",\"Tienda de conveniencia (e.g. OXXO)\",\"yes\",\"Tienda de conveniencia (e.g. OXXO)\",\"yes\",\"yes\",\"Pago de servicios \",\"2\",\"3\",\"0\",\"40\",\"100\",\"19\",\"Male\",\"Produce (fruits & vegetables)\",\"\\xe2\\x80\\x94\\xe2\\x80\\x94\",\"\"\\n\"444e17df-1335-4df2-b851-be4d806a8b1c\",\"November 9, 2022\",\"2022-11-09 23:12:53 UTC\",\"Gianluca De la rosa\",\"SRID=4326;POINT(-98.1674313918 19.0708461071)\",\"19.0708461071\",\"-98.1674313918\",\"Efectivo\",\"yes\",\"\",\"m\\xc3\\xa1s de 10 cuadras\",\"Autom\\xc3\\xb3vil\",\"1\",\"\",\"Tienda de conveniencia (e.g. OXXO)\",\"yes\",\"Tienda de conveniencia (e.g. OXXO)\",\"yes\",\"Tienda de conveniencia (e.g. OXXO)\",\"yes\",\"Tienda de conveniencia (e.g. OXXO)\",\"yes\",\"Banco,Tienda de conveniencia (e.g. OXXO)\",\"yes\",\"yes\",\"Pago de servicios \",\"30\",\"60\",\"0\",\"30\",\"200\",\"18\",\"Male\",\"Micro-restaurant (aka. fondita)\",\"Maravillas \",\"1 Photo\"\\n\"633c4f73-b69a-4c5b-93a0-37ab3c95e6d2\",\"November 9, 2022\",\"2022-11-09 23:12:52 UTC\",\"Gianluca De la rosa\",\"SRID=4326;POINT(-98.1675685197 19.0707038304)\",\"19.0707038304\",\"-98.1675685197\",\"Efectivo\",\"yes\",\"\",\"m\\xc3\\xa1s de 10 cuadras\",\"Transporte p\\xc3\\xbablico\",\"5\",\"\",\"Tienda de conveniencia (e.g. OXXO)\",\"no\",\"Tienda de conveniencia (e.g. OXXO)\",\"no\",\"Tienda de conveniencia (e.g. OXXO)\",\"no\",\"Tienda de conveniencia (e.g. OXXO)\",\"no\",\"Tienda de conveniencia (e.g. OXXO)\",\"no\",\"no\",\"\",\"0\",\"0\",\"0\",\"0\",\"100\",\"26\",\"Female\",\"Grocery store (aka. nanostore)\",\"Super Tec\",\"1 Photo\"\\n\"a3c40907-9972-454b-86c3-62ddd052df28\",\"November 9, 2022\",\"2022-11-09 23:12:52 UTC\",\"Gianluca De la rosa\",\"SRID=4326;POINT(-98.1676165165 19.0708327664)\",\"19.0708327664\",\"-98.1676165165\",\"Efectivo\",\"yes\",\"\",\"m\\xc3\\xa1s de 10 cuadras\",\"Transporte p\\xc3\\xbablico\",\"3\",\"\",\"Tienda de conveniencia (e.g. OXXO)\",\"yes\",\"Tienda de conveniencia (e.g. OXXO)\",\"yes\",\"Tienda de conveniencia (e.g. OXXO)\",\"yes\",\"Tienda de conveniencia (e.g. OXXO)\",\"yes\",\"Tienda de conveniencia (e.g. OXXO)\",\"yes\",\"yes\",\"Pago de servicios \",\"3\",\"1\",\"2\",\"30\",\"30\",\"18\",\"Female\",\"Micro-restaurant (aka. fondita)\",\"\\xe2\\x80\\x94\\xe2\\x80\\x94\",\"1 Photo\"\\n\"d8a6f0cf-d901-4fc1-b1ab-d02811d79266\",\"November 9, 2022\",\"2022-11-09 23:12:52 UTC\",\"Gianluca De la rosa\",\"SRID=4326;POINT(-98.1675953418 19.070659151)\",\"19.070659151\",\"-98.1675953418\",\"Efectivo\",\"yes\",\"\",\"m\\xc3\\xa1s de 10 cuadras\",\"Transporte p\\xc3\\xbablico\",\"3\",\"\",\"No lo hago\",\"yes\",\"No lo hago\",\"yes\",\"No lo hago\",\"yes\",\"No lo hago\",\"yes\",\"No lo hago\",\"yes\",\"no\",\"\",\"2\",\"0\",\"2\",\"30\",\"30\",\"19\",\"Male\",\"Cafeteria\",\"Sagrado Juguito \",\"\"\\n\"dc21e7ba-0fbc-4c41-819c-934272a52526\",\"November 9, 2022\",\"2022-11-09 23:12:51 UTC\",\"Gianluca De la rosa\",\"SRID=4326;POINT(-98.1671685353 19.0711506233)\",\"19.0711506233\",\"-98.1671685353\",\"Efectivo\",\"yes\",\"\",\"m\\xc3\\xa1s de 10 cuadras\",\"Transporte p\\xc3\\xbablico\",\"1\",\"\",\"CFE\",\"yes\",\"Sistema de agua\",\"yes\",\"Proveedor de gas\",\"yes\",\"Tienda de conveniencia (e.g. OXXO)\",\"yes\",\"Banco\",\"yes\",\"yes\",\"Pago de servicios \",\"10\",\"6\",\"5\",\"100\",\"100\",\"18\",\"Male\",\"Grocery store (aka. nanostore)\",\"La Universitaria \",\"1 Photo\"\\n\"fb3b6372-3d9f-431d-a15b-401652b3c3dd\",\"November 9, 2022\",\"2022-11-09 23:12:51 UTC\",\"Gianluca De la rosa\",\"SRID=4326;POINT(-98.1670884043 19.0712542411)\",\"19.0712542411\",\"-98.1670884043\",\"Efectivo\",\"yes\",\"\",\"m\\xc3\\xa1s de 10 cuadras\",\"Transporte p\\xc3\\xbablico\",\"2\",\"\",\"CFE\",\"yes\",\"Sistema de agua\",\"yes\",\"Proveedor de gas\",\"yes\",\"Fonda\",\"yes\",\"Fonda\",\"yes\",\"yes\",\"Pago de servicios \",\"2\",\"1\",\"5\",\"150\",\"150\",\"26\",\"Male\",\"Produce (fruits & vegetables)\",\"Poller\\xc3\\xada y Recauderia \\xe2\\x80\\x9cHnos Gonz\\xc3\\xa1lez\\xe2\\x80\\x9d \",\"\"\\n\"937f5847-78b2-4acb-b397-fa3122ca1b84\",\"November 9, 2022\",\"2022-11-09 23:12:50 UTC\",\"Gianluca De la rosa\",\"SRID=4326;POINT(-98.1670961156 19.0712460024)\",\"19.0712460024\",\"-98.1670961156\",\"Tarjeta de d\\xc3\\xa9bito y/o cr\\xc3\\xa9dito\",\"yes\",\"\",\"m\\xc3\\xa1s de 10 cuadras\",\"Transporte p\\xc3\\xbablico\",\"3\",\"\",\"Banco,Tienda de conveniencia (e.g. OXXO)\",\"no\",\"Banco,Tienda de conveniencia (e.g. OXXO)\",\"no\",\"Banco,Tienda de conveniencia (e.g. OXXO)\",\"no\",\"Tienda de conveniencia (e.g. OXXO)\",\"no\",\"Banco,Tienda de conveniencia (e.g. OXXO)\",\"no\",\"yes\",\"Retiro de efectivo \",\"5\",\"3\",\"0\",\"80\",\"100\",\"18\",\"Male\",\"Grocery store (aka. nanostore)\",\"El Le\\xc3\\xb3n\",\"1 Photo\"\\n\"92188493-c1d6-4713-a574-4338f1757622\",\"November 9, 2022\",\"2022-11-09 23:12:50 UTC\",\"Gianluca De la rosa\",\"SRID=4326;POINT(-98.1670984626 19.0712466361)\",\"19.0712466361\",\"-98.1670984626\",\"Efectivo\",\"yes\",\"\",\"m\\xc3\\xa1s de 10 cuadras\",\"Autom\\xc3\\xb3vil\",\"4\",\"\",\"Supermercado\",\"no\",\"Supermercado\",\"no\",\"Supermercado\",\"no\",\"Supermercado\",\"no\",\"Supermercado\",\"no\",\"no\",\"\",\"2\",\"2\",\"0\",\"250\",\"150\",\"23\",\"Female\",\"Grocery store (aka. nanostore)\",\"El Le\\xc3\\xb3n\",\"1 Photo\"\\n\"6f9da911-9487-4564-94cd-b189c490ac17\",\"November 9, 2022\",\"2022-11-09 23:12:49 UTC\",\"Gianluca De la rosa\",\"SRID=4326;POINT(-98.1670971215 19.0712472699)\",\"19.0712472699\",\"-98.1670971215\",\"Efectivo\",\"yes\",\"\",\"m\\xc3\\xa1s de 10 cuadras\",\"Transporte p\\xc3\\xbablico\",\"5\",\"\",\"Tienda de conveniencia (e.g. OXXO)\",\"no\",\"Tienda de conveniencia (e.g. OXXO)\",\"no\",\"Tienda de conveniencia (e.g. OXXO)\",\"no\",\"Tienda de conveniencia (e.g. OXXO)\",\"no\",\"Tienda de conveniencia (e.g. OXXO)\",\"no\",\"no\",\"\",\"1\",\"0\",\"0\",\"100\",\"20\",\"22\",\"Male\",\"Grocery store (aka. nanostore)\",\"El le\\xc3\\xb3n\",\"1 Photo\"\\n\"aebc091c-a2c1-483c-a8c0-7df6c71e369c\",\"November 9, 2022\",\"2022-11-09 23:12:49 UTC\",\"Gianluca De la rosa\",\"SRID=4326;POINT(-98.1671795994 19.071394933)\",\"19.071394933\",\"-98.1671795994\",\"Efectivo\",\"yes\",\"\",\"m\\xc3\\xa1s de 10 cuadras\",\"Transporte p\\xc3\\xbablico\",\"2\",\"\",\"Tienda de conveniencia (e.g. OXXO)\",\"no\",\"Tienda de conveniencia (e.g. OXXO)\",\"no\",\"Tienda de conveniencia (e.g. OXXO)\",\"no\",\"Tienda de conveniencia (e.g. OXXO)\",\"no\",\"Banco,Tienda de conveniencia (e.g. OXXO)\",\"no\",\"no\",\"\",\"2\",\"5\",\"2\",\"80\",\"150\",\"21\",\"Male\",\"Grocery store (aka. nanostore)\",\"Loncher\\xc3\\xada Karina\",\"1 Photo\"\\n\"3022a296-411d-46e6-acd8-c773a5722936\",\"November 9, 2022\",\"2022-11-09 23:12:48 UTC\",\"Gianluca De la rosa\",\"SRID=4326;POINT(-98.1669918448 19.0716620572)\",\"19.0716620572\",\"-98.1669918448\",\"Efectivo\",\"yes\",\"\",\"4 a 6 cuadras\",\"A pie\",\"1\",\"\",\"Banco\",\"no\",\"Banco\",\"no\",\"Banco\",\"no\",\"Banco\",\"no\",\"Banco\",\"no\",\"no\",\"\",\"0\",\"0\",\"1\",\"0\",\"0\",\"29\",\"Female\",\"Cafeteria\",\"Jugueria Cristy \",\"1 Photo\"\\n\"2aa92a65-1905-45c5-8ad8-8f0aa3220832\",\"November 9, 2022\",\"2022-11-09 23:12:48 UTC\",\"Gianluca De la rosa\",\"SRID=4326;POINT(-98.167033419 19.0716069213)\",\"19.0716069213\",\"-98.167033419\",\"Efectivo\",\"yes\",\"\",\"m\\xc3\\xa1s de 10 cuadras\",\"Autom\\xc3\\xb3vil\",\"1\",\"\",\"CFE\",\"no\",\"Sistema de agua\",\"no\",\"Proveedor de gas\",\"no\",\"Fonda\",\"no\",\"Banco\",\"no\",\"yes\",\"Variedad de alimentos \",\"2\",\"0\",\"5\",\"30\",\"30\",\"21\",\"Female\",\"Micro-restaurant (aka. fondita)\",\"Antojitos \\xe2\\x80\\x9cLas Biling\\xc3\\xbces\\xe2\\x80\\x9d \",\"1 Photo\"\\n\"ac893814-01ab-40e9-a87d-6f5a56404f42\",\"November 9, 2022\",\"2022-11-09 23:12:47 UTC\",\"Gianluca De la rosa\",\"SRID=4326;POINT(-98.1669918448 19.0716604728)\",\"19.0716604728\",\"-98.1669918448\",\"Efectivo\",\"yes\",\"\",\"4 a 6 cuadras\",\"Autom\\xc3\\xb3vil\",\"2\",\"\",\"Tienda de conveniencia (e.g. OXXO)\",\"no\",\"Tienda de conveniencia (e.g. OXXO)\",\"no\",\"Tienda de conveniencia (e.g. OXXO)\",\"no\",\"Tienda de conveniencia (e.g. OXXO)\",\"no\",\"Tienda de conveniencia (e.g. OXXO)\",\"no\",\"no\",\"\",\"1\",\"0\",\"0\",\"50\",\"50\",\"50\",\"Female\",\"Cafeteria\",\"Juguer\\xc3\\xada Cristy\",\"1 Photo\"\\n\"cf4d7ad6-509f-4f30-b8b7-27245ec16b62\",\"November 7, 2022\",\"2022-11-09 22:59:07 UTC\",\"Ulises N\\xc3\\xba\\xc3\\xb1ez Bautista\",\"SRID=4326;POINT(-98.2224064777 19.0578233591)\",\"19.0578233591\",\"-98.2224064777\",\"Efectivo\",\"yes\",\"\",\"4 a 6 cuadras\",\"A pie\",\"1\",\"\",\"Tienda de conveniencia (e.g. OXXO)\",\"no\",\"Sistema de agua,Supermercado\",\"no\",\"Proveedor de gas\",\"no\",\"No lo hago\",\"yes\",\"Tienda de conveniencia (e.g. OXXO)\",\"no\",\"no\",\"\",\"2\",\"4\",\"1\",\"50\",\"100\",\"38\",\"Male\",\"Grocery store (aka. nanostore)\",\"OEM service \",\"1 Photo\"\\n\"0e2a0ef0-ec2c-456d-8ab3-ee16f65bb52e\",\"November 9, 2022\",\"2022-11-09 22:48:37 UTC\",\"Oscar Morales\",\"SRID=4326;POINT(-98.2615284442 19.0192516253)\",\"19.0192516253\",\"-98.2615284442\",\"Efectivo\",\"yes\",\"\",\"4 a 6 cuadras\",\"A pie\",\"1\",\"\",\"CFE\",\"no\",\"Sistema de agua\",\"no\",\"Proveedor de gas\",\"no\",\"Tienda de conveniencia (e.g. OXXO)\",\"yes\",\"No lo hago\",\"no\",\"no\",\"\",\"0\",\"0\",\"0\",\"20\",\"50\",\"50\",\"Male\",\"Micro-restaurant (aka. fondita)\",\"Buffet de tacos\",\"1 Photo\"\\n\"4d677079-0ae3-4166-afb9-802c21d9d19b\",\"November 7, 2022\",\"2022-11-08 14:55:09 UTC\",\"Jorge Alberto Ostorga Flores\",\"SRID=4326;POINT(-98.222345439 19.0579346723)\",\"19.0579346723\",\"-98.222345439\",\"Tarjeta de d\\xc3\\xa9bito y/o cr\\xc3\\xa9dito\",\"yes\",\"\",\"7 a 10 cuadras\",\"Transporte p\\xc3\\xbablico\",\"1\",\"\",\"Tienda de conveniencia (e.g. OXXO)\",\"no\",\"Tienda de conveniencia (e.g. OXXO)\",\"no\",\"Proveedor de gas\",\"no\",\"No lo hago\",\"no\",\"Tienda de conveniencia (e.g. OXXO)\",\"no\",\"no\",\"\",\"2\",\"3\",\"0\",\"0\",\"50\",\"28\",\"Male\",\"Grocery store (aka. nanostore)\",\"ValTech\",\"1 Photo\"\\n\"43e53a54-f1ed-4fe4-a53f-16851deecd59\",\"November 7, 2022\",\"2022-11-08 04:13:14 UTC\",\"Danna Mar\\xc3\\xada Mosqueda Hern\\xc3\\xa1ndez\",\"SRID=4326;POINT(-98.2617088594 19.0187882027)\",\"19.0187882027\",\"-98.2617088594\",\"Tarjeta de d\\xc3\\xa9bito y/o cr\\xc3\\xa9dito\",\"yes\",\"\",\"m\\xc3\\xa1s de 10 cuadras\",\"Autom\\xc3\\xb3vil\",\"1\",\"\",\"No lo hago\",\"no\",\"No lo hago\",\"no\",\"No lo hago\",\"no\",\"Tienda de conveniencia (e.g. OXXO)\",\"no\",\"Banco\",\"no\",\"no\",\"\",\"5\",\"10\",\"0\",\"30\",\"80\",\"20\",\"Male\",\"Cafeteria\",\"Rey Patata\",\"1 Photo\"\\n\"df0cf8f3-bb6b-40aa-83d3-867756544e41\",\"November 7, 2022\",\"2022-11-08 04:13:13 UTC\",\"Danna Mar\\xc3\\xada Mosqueda Hern\\xc3\\xa1ndez\",\"SRID=4326;POINT(-98.2625222119 19.0192133175)\",\"19.0192133175\",\"-98.2625222119\",\"Efectivo\",\"yes\",\"\",\"m\\xc3\\xa1s de 10 cuadras\",\"Autom\\xc3\\xb3vil\",\"3\",\"\",\"CFE,Tienda de conveniencia (e.g. OXXO)\",\"no\",\"Banco,Sistema de agua,Tienda de conveniencia (e.g. OXXO)\",\"no\",\"Banco,Proveedor de gas\",\"no\",\"Banco,Tienda de conveniencia (e.g. OXXO)\",\"no\",\"Tienda de conveniencia (e.g. OXXO)\",\"no\",\"no\",\"\",\"1\",\"5\",\"0\",\"50\",\"120\",\"25\",\"Male\",\"Micro-restaurant (aka. fondita)\",\"Los sabores\",\"1 Photo\"\\n\"8a2eb840-887d-4852-9c41-22d54613e1c6\",\"November 7, 2022\",\"2022-11-08 04:13:13 UTC\",\"Danna Mar\\xc3\\xada Mosqueda Hern\\xc3\\xa1ndez\",\"SRID=4326;POINT(-98.2625588265 19.0196435072)\",\"19.0196435072\",\"-98.2625588265\",\"Transferencia interbancaria\",\"yes\",\"\",\"4 a 6 cuadras\",\"Bicicleta\",\"2\",\"\",\"CFE,Tienda de conveniencia (e.g. OXXO)\",\"no\",\"Sistema de agua,Tienda de conveniencia (e.g. OXXO)\",\"no\",\"Mobile app,Proveedor de gas\",\"no\",\"Mobile app,Tienda de conveniencia (e.g. OXXO)\",\"no\",\"Banco,Tienda de conveniencia (e.g. OXXO)\",\"no\",\"no\",\"\",\"1\",\"3\",\"0\",\"40\",\"100\",\"26\",\"Male\",\"Micro-restaurant (aka. fondita)\",\"Cemitas del carmen \",\"1 Photo\"\\n\"8d723f66-aba1-4f0f-90b9-2589522e6b39\",\"November 7, 2022\",\"2022-11-08 04:13:12 UTC\",\"Danna Mar\\xc3\\xada Mosqueda Hern\\xc3\\xa1ndez\",\"SRID=4326;POINT(-98.2624608 19.0200849669)\",\"19.0200849669\",\"-98.2624608\",\"Efectivo\",\"yes\",\"\",\"m\\xc3\\xa1s de 10 cuadras\",\"Autom\\xc3\\xb3vil\",\"3\",\"\",\"CFE,Tienda de conveniencia (e.g. OXXO)\",\"no\",\"Sistema de agua,Tienda de conveniencia (e.g. OXXO)\",\"no\",\"Proveedor de gas\",\"no\",\"App,Tienda de conveniencia (e.g. OXXO)\",\"no\",\"App\",\"no\",\"yes\",\"M\\xc3\\xa1s platillos\",\"2\",\"6\",\"0\",\"30\",\"80\",\"22\",\"Female\",\"Micro-restaurant (aka. fondita)\",\"El Brunch\",\"1 Photo\"\\n\"9c925e71-dc95-4389-a68f-d92e08f5f397\",\"November 7, 2022\",\"2022-11-08 04:13:11 UTC\",\"Danna Mar\\xc3\\xada Mosqueda Hern\\xc3\\xa1ndez\",\"SRID=4326;POINT(-98.2611493421 19.022423871)\",\"19.022423871\",\"-98.2611493421\",\"Efectivo\",\"yes\",\"\",\"0 a 3 cuadras\",\"A pie\",\"4\",\"\",\"Tienda de conveniencia (e.g. OXXO)\",\"no\",\"Sistema de agua,Tienda de conveniencia (e.g. OXXO)\",\"no\",\"Proveedor de gas\",\"no\",\"Mobile app,Tienda de conveniencia (e.g. OXXO)\",\"no\",\"Banco,Tienda de conveniencia (e.g. OXXO)\",\"no\",\"no\",\"\",\"0\",\"0\",\"5\",\"30\",\"50\",\"36\",\"Female\",\"Butcher shop\",\"Mr. Green\",\"1 Photo\"\\n\"1c9ac28a-1c57-454a-946e-14425046ac60\",\"November 7, 2022\",\"2022-11-08 04:13:11 UTC\",\"Danna Mar\\xc3\\xada Mosqueda Hern\\xc3\\xa1ndez\",\"SRID=4326;POINT(-98.2608573122 19.0223302274)\",\"19.0223302274\",\"-98.2608573122\",\"Transferencia interbancaria\",\"yes\",\"\",\"m\\xc3\\xa1s de 10 cuadras\",\"Autom\\xc3\\xb3vil\",\"1\",\"\",\"CFE\",\"no\",\"Sistema de agua\",\"no\",\"Proveedor de gas,Tienda de conveniencia (e.g. OXXO)\",\"no\",\"Tienda de conveniencia (e.g. OXXO)\",\"no\",\"Banco,Tienda de conveniencia (e.g. OXXO)\",\"no\",\"no\",\"\",\"2\",\"4\",\"0\",\"40\",\"90\",\"33\",\"Male\",\"Micro-restaurant (aka. fondita)\",\"El saz\\xc3\\xb3n de la jarochita\",\"1 Photo\"\\n\"f18d97ac-0207-4ab7-95a5-c3d07ed79c11\",\"November 7, 2022\",\"2022-11-08 04:13:10 UTC\",\"Danna Mar\\xc3\\xada Mosqueda Hern\\xc3\\xa1ndez\",\"SRID=4326;POINT(-98.2599681058 19.0221065143)\",\"19.0221065143\",\"-98.2599681058\",\"Tarjeta de d\\xc3\\xa9bito y/o cr\\xc3\\xa9dito\",\"yes\",\"\",\"4 a 6 cuadras\",\"Transporte p\\xc3\\xbablico\",\"1\",\"\",\"CFE,Tienda de conveniencia (e.g. OXXO)\",\"\",\"Sistema de agua\",\"\",\"Proveedor de gas\",\"\",\"Tienda de conveniencia (e.g. OXXO)\",\"\",\"Tienda de conveniencia (e.g. OXXO)\",\"\",\"no\",\"\",\"1\",\"2\",\"5\",\"30\",\"50\",\"42\",\"Male\",\"Grocery store (aka. nanostore)\",\"Superlim todo en limpieza \",\"1 Photo\"\\n\"dd77bc8f-6e11-4ebf-a917-f3eb459032d2\",\"November 7, 2022\",\"2022-11-08 04:13:09 UTC\",\"Danna Mar\\xc3\\xada Mosqueda Hern\\xc3\\xa1ndez\",\"SRID=4326;POINT(-98.2606685814 19.0208645258)\",\"19.0208645258\",\"-98.2606685814\",\"Efectivo\",\"yes\",\"\",\"m\\xc3\\xa1s de 10 cuadras\",\"Motocicleta\",\"1\",\"\",\"CFE,Mobile app\",\"no\",\"Mobile app,Sistema de agua\",\"no\",\"Proveedor de gas\",\"no\",\"Mobile app\",\"no\",\"Mobile app,Tienda de conveniencia (e.g. OXXO)\",\"no\",\"no\",\"\",\"3\",\"4\",\"0\",\"80\",\"120\",\"19\",\"Female\",\"Cafeteria\",\"La nueva michoacana\",\"1 Photo\"\\n\"b54a2aa6-2341-4840-908b-28015037ba3b\",\"November 7, 2022\",\"2022-11-08 04:13:09 UTC\",\"Danna Mar\\xc3\\xada Mosqueda Hern\\xc3\\xa1ndez\",\"SRID=4326;POINT(-98.2610308473 19.020214174)\",\"19.020214174\",\"-98.2610308473\",\"Efectivo\",\"yes\",\"\",\"0 a 3 cuadras\",\"A pie\",\"2\",\"\",\"Tienda de conveniencia (e.g. OXXO),Tiendita\",\"\",\"Sistema de agua,Tienda de conveniencia (e.g. OXXO)\",\"no\",\"Proveedor de gas\",\"no\",\"Tienda de conveniencia (e.g. OXXO)\",\"yes\",\"Banco,Tienda de conveniencia (e.g. OXXO)\",\"no\",\"no\",\"\",\"0\",\"0\",\"5\",\"30\",\"50\",\"38\",\"Female\",\"Grocery store (aka. nanostore)\",\"Alondra Desechables y materias primas\",\"1 Photo\"\\n\"69b3d48c-1fed-4afc-93c5-09d6bf53d2d6\",\"November 7, 2022\",\"2022-11-08 04:13:08 UTC\",\"Danna Mar\\xc3\\xada Mosqueda Hern\\xc3\\xa1ndez\",\"SRID=4326;POINT(-98.2613938303 19.0194786072)\",\"19.0194786072\",\"-98.2613938303\",\"Efectivo\",\"yes\",\"\",\"0 a 3 cuadras\",\"A pie\",\"5\",\"\",\"Tienda de conveniencia (e.g. OXXO)\",\"yes\",\"Sistema de agua\",\"yes\",\"Proveedor de gas\",\"no\",\"Tienda de conveniencia (e.g. OXXO)\",\"no\",\"Tienda de conveniencia (e.g. OXXO)\",\"no\",\"no\",\"\",\"1\",\"0\",\"4\",\"25\",\"50\",\"57\",\"Female\",\"Produce (fruits & vegetables)\",\"S\\xc3\\xbaper Canasta \",\"1 Photo\"\\n\"1cb18e09-8e37-4453-985c-64d097cc7497\",\"November 7, 2022\",\"2022-11-08 04:13:08 UTC\",\"Danna Mar\\xc3\\xada Mosqueda Hern\\xc3\\xa1ndez\",\"SRID=4326;POINT(-98.2606917086 19.0207468242)\",\"19.0207468242\",\"-98.2606917086\",\"Efectivo\",\"yes\",\"\",\"0 a 3 cuadras\",\"A pie\",\"1\",\"\",\"Tienda de conveniencia (e.g. OXXO)\",\"no\",\"Sistema de agua\",\"no\",\"Proveedor de gas\",\"no\",\"Tienda de conveniencia (e.g. OXXO)\",\"no\",\"Banco,Tienda de conveniencia (e.g. OXXO)\",\"no\",\"no\",\"\",\"2\",\"5\",\"4\",\"50\",\"80\",\"30\",\"Female\",\"Dairy products\",\"Est\\xc3\\xa9tica Unisex Aislinn\",\"1 Photo\"\\n\"e8669b1a-4a1e-495b-bd84-53ee4b47fd64\",\"November 5, 2022\",\"2022-11-08 04:10:09 UTC\",\"Danna Mar\\xc3\\xada Mosqueda Hern\\xc3\\xa1ndez\",\"SRID=4326;POINT(-98.2615531596 19.0225102393)\",\"19.0225102393\",\"-98.2615531596\",\"Efectivo\",\"yes\",\"\",\"4 a 6 cuadras\",\"Autom\\xc3\\xb3vil\",\"3\",\"\",\"Tienda de conveniencia (e.g. OXXO)\",\"no\",\"Tienda de conveniencia (e.g. OXXO)\",\"yes\",\"Proveedor de gas\",\"no\",\"Tienda de conveniencia (e.g. OXXO)\",\"no\",\"Supermercado,Tienda de conveniencia (e.g. OXXO)\",\"yes\",\"no\",\"\",\"1\",\"6\",\"4\",\"30\",\"50\",\"25\",\"Female\",\"Butcher shop\",\"Carnes Selectas Hermanos Flores\",\"1 Photo\"\\n\"ae6d33c4-9f2d-4487-9498-6bf9b179eb6e\",\"November 5, 2022\",\"2022-11-08 04:10:09 UTC\",\"Danna Mar\\xc3\\xada Mosqueda Hern\\xc3\\xa1ndez\",\"SRID=4326;POINT(-98.2611456999 19.0222964781)\",\"19.0222964781\",\"-98.2611456999\",\"No realiz\\xc3\\xb3 compras\",\"no\",\"Pantal\\xc3\\xb3n, blusa\",\"4 a 6 cuadras\",\"A pie\",\"1\",\"M\\xc3\\xa1s variedad de productos\",\"CFE\",\"yes\",\"Sistema de agua\",\"yes\",\"Proveedor de gas\",\"yes\",\"Banco,Tienda de conveniencia (e.g. OXXO)\",\"yes\",\"Banco,Tienda de conveniencia (e.g. OXXO)\",\"no\",\"yes\",\"Pago de servicios\",\"6\",\"0\",\"8\",\"30\",\"50\",\"68\",\"Female\",\"Grocery store (aka. nanostore)\",\"No mame\",\"1 Photo\"\\n\"bf8227eb-6891-4bf7-a680-cab57dd9b635\",\"November 5, 2022\",\"2022-11-08 04:10:08 UTC\",\"Danna Mar\\xc3\\xada Mosqueda Hern\\xc3\\xa1ndez\",\"SRID=4326;POINT(-98.2605484483 19.022131044)\",\"19.022131044\",\"-98.2605484483\",\"Efectivo\",\"yes\",\"\",\"0 a 3 cuadras\",\"A pie\",\"4\",\"\",\"CFE,Tienda de conveniencia (e.g. OXXO)\",\"no\",\"Sistema de agua\",\"no\",\"Proveedor de gas\",\"no\",\"Tienda de conveniencia (e.g. OXXO),Tiendita\",\"\",\"No lo hago\",\"no\",\"no\",\"\",\"1\",\"3\",\"8\",\"30\",\"50\",\"44\",\"Female\",\"Grocery store (aka. nanostore)\",\"Tortiller\\xc3\\xada \\xe2\\x80\\x9cRosales\\xe2\\x80\\x9d\",\"1 Photo\"\\n\"c53c338a-2f98-42b9-b400-5f7bcefcfd83\",\"November 5, 2022\",\"2022-11-08 04:10:08 UTC\",\"Danna Mar\\xc3\\xada Mosqueda Hern\\xc3\\xa1ndez\",\"SRID=4326;POINT(-98.2603235827 19.0217736923)\",\"19.0217736923\",\"-98.2603235827\",\"Efectivo\",\"yes\",\"\",\"4 a 6 cuadras\",\"A pie\",\"3\",\"\",\"Tienda de conveniencia (e.g. OXXO),Tiendita\",\"\",\"Tienda de conveniencia (e.g. OXXO),Tiendita\",\"\",\"Mobile app \",\"no\",\"Tienda de conveniencia (e.g. OXXO)\",\"no\",\"Banco\",\"no\",\"no\",\"\",\"5\",\"2\",\"6\",\"40\",\"80\",\"54\",\"Female\",\"Produce (fruits & vegetables)\",\"Frutas y verduras \\xe2\\x80\\x9cRafa\\xe2\\x80\\x9d\",\"1 Photo\"\\n\"d9976ce5-6538-4036-a39e-c5c175cdcc16\",\"November 5, 2022\",\"2022-11-08 04:10:07 UTC\",\"Danna Mar\\xc3\\xada Mosqueda Hern\\xc3\\xa1ndez\",\"SRID=4326;POINT(-98.2605454513 19.0210555913)\",\"19.0210555913\",\"-98.2605454513\",\"Efectivo\",\"yes\",\"\",\"m\\xc3\\xa1s de 10 cuadras\",\"Autom\\xc3\\xb3vil\",\"1\",\"\",\"Mobile app\",\"no\",\"Mobile app\",\"no\",\"Mobile app\",\"no\",\"Mobile app\",\"no\",\"Banco\",\"no\",\"no\",\"\",\"5\",\"12\",\"0\",\"80\",\"150\",\"19\",\"Male\",\"Cafeteria\",\"Rico Pan Casero\",\"1 Photo\"\\n\"318edef0-6228-4007-9a4a-a9b2f5b47e55\",\"November 5, 2022\",\"2022-11-08 04:10:07 UTC\",\"Danna Mar\\xc3\\xada Mosqueda Hern\\xc3\\xa1ndez\",\"SRID=4326;POINT(-98.2606651265 19.0208187793)\",\"19.0208187793\",\"-98.2606651265\",\"Efectivo\",\"yes\",\"\",\"4 a 6 cuadras\",\"Bicicleta\",\"2\",\"\",\"App\",\"no\",\"Supermercado,Tienda de conveniencia (e.g. OXXO)\",\"no\",\"Banco\",\"no\",\"Banco,Supermercado,Tienda de conveniencia (e.g. OXXO)\",\"no\",\"Banco\",\"no\",\"no\",\"\",\"4\",\"4\",\"2\",\"30\",\"75\",\"28\",\"Male\",\"Grocery store (aka. nanostore)\",\"La nueva Michoacana \",\"1 Photo\"\\n\"db8a304e-aee5-424f-b989-a69495a57f69\",\"November 5, 2022\",\"2022-11-08 04:10:06 UTC\",\"Danna Mar\\xc3\\xada Mosqueda Hern\\xc3\\xa1ndez\",\"SRID=4326;POINT(-98.2618381108 19.0189637053)\",\"19.0189637053\",\"-98.2618381108\",\"Efectivo\",\"no\",\"Clavos\",\"0 a 3 cuadras\",\"A pie\",\"1\",\"M\\xc3\\xa1s variedad de producto de ferreter\\xc3\\xada \",\"Tienda de conveniencia (e.g. OXXO)\",\"no\",\"Tienda de conveniencia (e.g. OXXO)\",\"no\",\"Proveedor de gas\",\"no\",\"Tienda de conveniencia (e.g. OXXO)\",\"no\",\"No lo hago\",\"no\",\"no\",\"\",\"2\",\"0\",\"3\",\"25\",\"60\",\"52\",\"Male\",\"Grocery store (aka. nanostore)\",\"Ferreter\\xc3\\xada Robgas\",\"1 Photo\"\\n\"432fddb9-089c-4b91-8d00-6290751bb41f\",\"November 5, 2022\",\"2022-11-08 04:10:06 UTC\",\"Danna Mar\\xc3\\xada Mosqueda Hern\\xc3\\xa1ndez\",\"SRID=4326;POINT(-98.2614185927 19.0194155786)\",\"19.0194155786\",\"-98.2614185927\",\"Efectivo\",\"yes\",\"\",\"0 a 3 cuadras\",\"A pie\",\"1\",\"\",\"Tienda de conveniencia (e.g. OXXO)\",\"no\",\"Sistema de agua,Tienda de conveniencia (e.g. OXXO)\",\"no\",\"App m\\xc3\\xb3vil \",\"no\",\"Tienda de conveniencia (e.g. OXXO),Tiendita\",\"\",\"Bancomer app\",\"no\",\"no\",\"\",\"5\",\"15\",\"0\",\"50\",\"100\",\"17\",\"Female\",\"Grocery store (aka. nanostore)\",\"Brillosos productos de limpieza\",\"1 Photo\"\\n\"b9abf2cb-702d-48bf-bc98-16989279b57b\",\"November 5, 2022\",\"2022-11-08 04:10:05 UTC\",\"Danna Mar\\xc3\\xada Mosqueda Hern\\xc3\\xa1ndez\",\"SRID=4326;POINT(-98.2609013002 19.0203937492)\",\"19.0203937492\",\"-98.2609013002\",\"Efectivo\",\"yes\",\"\",\"0 a 3 cuadras\",\"A pie\",\"3\",\"\",\"Tienda de conveniencia (e.g. OXXO)\",\"no\",\"Sistema de agua\",\"no\",\"Proveedor de gas\",\"no\",\"Tiendita\",\"\",\"Supermercado,Tienda de conveniencia (e.g. OXXO)\",\"no\",\"no\",\"\",\"4\",\"12\",\"1\",\"65\",\"120\",\"38\",\"Female\",\"Cafeteria\",\"La Nueva Michoacana \",\"1 Photo\"\\n\"6a618b5f-3e3c-42f7-9c25-fedf795b86fe\",\"November 5, 2022\",\"2022-11-08 04:10:05 UTC\",\"Danna Mar\\xc3\\xada Mosqueda Hern\\xc3\\xa1ndez\",\"SRID=4326;POINT(-98.261080552 19.020082159)\",\"19.020082159\",\"-98.261080552\",\"Tarjeta de d\\xc3\\xa9bito y/o cr\\xc3\\xa9dito\",\"yes\",\"\",\"0 a 3 cuadras\",\"A pie\",\"1\",\"\",\"CFE,Other\",\"yes\",\"Supermercado\",\"yes\",\"Proveedor de gas\",\"yes\",\"Tienda de conveniencia (e.g. OXXO)\",\"yes\",\"Transferencia \",\"yes\",\"yes\",\"Agua luz gas \",\"6\",\"10\",\"6\",\"50\",\"100\",\"22\",\"Female\",\"Grocery store (aka. nanostore)\",\"Ferreter\\xc3\\xadas F\\xc3\\xa9nix \",\"1 Photo\"\\n\"f2d7454a-f80c-4e98-af66-37f70266be30\",\"November 7, 2022\",\"2022-11-07 23:25:53 UTC\",\"Ulises N\\xc3\\xba\\xc3\\xb1ez Bautista\",\"SRID=4326;POINT(-98.2224561327 19.0577741584)\",\"19.0577741584\",\"-98.2224561327\",\"Efectivo\",\"no\",\"Castillo\",\"m\\xc3\\xa1s de 10 cuadras\",\"Autom\\xc3\\xb3vil\",\"1\",\"\",\"Tienda de conveniencia (e.g. OXXO)\",\"no\",\"Banco\",\"no\",\"Proveedor de gas\",\"no\",\"Tienda de conveniencia (e.g. OXXO)\",\"no\",\"Tienda de conveniencia (e.g. OXXO)\",\"no\",\"no\",\"\",\"0\",\"0\",\"5\",\"100\",\"80\",\"35\",\"Male\",\"Grocery store (aka. nanostore)\",\"Costetix\",\"1 Photo\"\\n\"ed4984b4-f135-4d12-92ae-64e90adecb47\",\"November 7, 2022\",\"2022-11-07 22:57:49 UTC\",\"Jorge Alberto Ostorga Flores\",\"SRID=4326;POINT(-98.2279899669 19.0598775644)\",\"19.0598775644\",\"-98.2279899669\",\"Tarjeta de d\\xc3\\xa9bito y/o cr\\xc3\\xa9dito\",\"yes\",\"\",\"m\\xc3\\xa1s de 10 cuadras\",\"A pie\",\"1\",\"\",\"Tienda de conveniencia (e.g. OXXO)\",\"no\",\"Sistema de agua\",\"no\",\"Proveedor de gas\",\"no\",\"No lo hago\",\"no\",\"No lo hago\",\"no\",\"no\",\"\",\"2\",\"7\",\"0\",\"0\",\"0\",\"30\",\"Male\",\"Dairy products\",\"La Reina de Puebla\",\"\"\\n\"c3363096-2b12-48bc-9650-1c6783f9ebf3\",\"November 7, 2022\",\"2022-11-07 22:51:16 UTC\",\"Ulises N\\xc3\\xba\\xc3\\xb1ez Bautista\",\"SRID=4326;POINT(-98.2277619174 19.06009126)\",\"19.06009126\",\"-98.2277619174\",\"Tarjeta de d\\xc3\\xa9bito y/o cr\\xc3\\xa9dito\",\"yes\",\"\",\"m\\xc3\\xa1s de 10 cuadras\",\"A pie\",\"1\",\"\",\"Tienda de conveniencia (e.g. OXXO)\",\"no\",\"Sistema de agua\",\"no\",\"Proveedor de gas\",\"no\",\"Plan telef\\xc3\\xb3nico \",\"no\",\"App\",\"no\",\"no\",\"\",\"2\",\"7\",\"0\",\"40\",\"70\",\"24\",\"Male\",\"Micro-restaurant (aka. fondita)\",\"Don asador\",\"1 Photo\"\\n\"17623ece-ce96-41af-b47b-6d5475a7f3db\",\"November 7, 2022\",\"2022-11-07 22:51:15 UTC\",\"Ulises N\\xc3\\xba\\xc3\\xb1ez Bautista\",\"SRID=4326;POINT(-98.2223518282 19.0579026417)\",\"19.0579026417\",\"-98.2223518282\",\"Efectivo\",\"yes\",\"\",\"0 a 3 cuadras\",\"A pie\",\"1\",\"\",\"Banco\",\"no\",\"Banco\",\"no\",\"Proveedor de gas\",\"no\",\"No lo hago\",\"no\",\"No lo hago\",\"no\",\"no\",\"\",\"0\",\"0\",\"0\",\"0\",\"0\",\"45\",\"Male\",\"Grocery store (aka. nanostore)\",\"Ferreter\\xc3\\xada Ambriz\",\"1 Photo\"\\n\"c412650a-67ed-4e09-93dc-f4cf5dc3c759\",\"November 7, 2022\",\"2022-11-07 22:41:08 UTC\",\"Jorge Alberto Ostorga Flores\",\"SRID=4326;POINT(-98.2277992196 19.0599489285)\",\"19.0599489285\",\"-98.2277992196\",\"Tarjeta de d\\xc3\\xa9bito y/o cr\\xc3\\xa9dito\",\"yes\",\"\",\"m\\xc3\\xa1s de 10 cuadras\",\"Autom\\xc3\\xb3vil\",\"1\",\"\",\"CFE\",\"no\",\"Sistema de agua\",\"no\",\"Proveedor de gas\",\"no\",\"No lo hago\",\"no\",\"Banco\",\"no\",\"no\",\"\",\"6\",\"5\",\"0\",\"0\",\"0\",\"18\",\"Male\",\"Micro-restaurant (aka. fondita)\",\"Don Asador\",\"\"\\n\"83a602c7-d845-4a6e-9ad8-4e1907222b6b\",\"November 7, 2022\",\"2022-11-07 22:41:07 UTC\",\"Jorge Alberto Ostorga Flores\",\"SRID=4326;POINT(-98.2278069689 19.0599946207)\",\"19.0599946207\",\"-98.2278069689\",\"Tarjeta de d\\xc3\\xa9bito y/o cr\\xc3\\xa9dito\",\"yes\",\"\",\"m\\xc3\\xa1s de 10 cuadras\",\"Autom\\xc3\\xb3vil\",\"1\",\"\",\"CFE\",\"no\",\"Sistema de agua\",\"no\",\"Proveedor de gas\",\"no\",\"No lo hago\",\"no\",\"Banco\",\"no\",\"no\",\"\",\"8\",\"4\",\"0\",\"0\",\"0\",\"22\",\"Male\",\"Micro-restaurant (aka. fondita)\",\"Don Asador\",\"\"\\n\"884419dd-5f1a-4b7b-b58c-c54863ff38de\",\"November 7, 2022\",\"2022-11-07 22:41:07 UTC\",\"Jorge Alberto Ostorga Flores\",\"SRID=4326;POINT(-98.2279501444 19.0600125649)\",\"19.0600125649\",\"-98.2279501444\",\"Efectivo\",\"yes\",\"\",\"m\\xc3\\xa1s de 10 cuadras\",\"Autom\\xc3\\xb3vil\",\"1\",\"\",\"CFE\",\"no\",\"Supermercado\",\"no\",\"Proveedor de gas\",\"no\",\"No lo hago\",\"no\",\"Supermercado\",\"no\",\"no\",\"\",\"0\",\"0\",\"2\",\"50\",\"100\",\"45\",\"Female\",\"Produce (fruits & vegetables)\",\"La Reina de Puebla\",\"1 Photo\"\\n\"be6abfdf-59a4-40df-b285-eef7704eb153\",\"November 7, 2022\",\"2022-11-07 22:41:06 UTC\",\"Jorge Alberto Ostorga Flores\",\"SRID=4326;POINT(-98.2224507951 19.0579616816)\",\"19.0579616816\",\"-98.2224507951\",\"Efectivo\",\"yes\",\"\",\"0 a 3 cuadras\",\"A pie\",\"1\",\"\",\"Supermercado\",\"no\",\"Supermercado\",\"no\",\"No lo hago\",\"no\",\"Tiendita\",\"\",\"No lo hago\",\"no\",\"no\",\"\",\"2\",\"1\",\"0\",\"0\",\"0\",\"60\",\"Female\",\"Grocery store (aka. nanostore)\",\"Splashbit\",\"1 Photo\"\\n\"0d12293a-ce89-4f2d-8180-b226fa2fd4c9\",\"November 5, 2022\",\"2022-11-05 17:16:08 UTC\",\"Gustavo Manzanilla\",\"SRID=4326;POINT(-98.2208566368 19.0423914961)\",\"19.0423914961\",\"-98.2208566368\",\"Tarjeta de d\\xc3\\xa9bito y/o cr\\xc3\\xa9dito\",\"yes\",\"\",\"7 a 10 cuadras\",\"didi\",\"2\",\"\",\"Tienda de conveniencia (e.g. OXXO)\",\"no\",\"Banco,Tienda de conveniencia (e.g. OXXO),tel\\xc3\\xa9fono\",\"no\",\"Banco,Supermercado,Tienda de conveniencia (e.g. OXXO),internet\",\"no\",\"Tienda de conveniencia (e.g. OXXO),Tiendita\",\"\",\"Banco,Tienda de conveniencia (e.g. OXXO)\",\"no\",\"yes\",\"Envio a domicilio sin costo\",\"5\",\"20\",\"15\",\"30\",\"30\",\"23\",\"Female\",\"Micro-restaurant (aka. fondita)\",\"Alto mexico\",\"1 Photo\"\\n\"7ef17008-4a50-4aa4-bf57-abb312725d62\",\"November 5, 2022\",\"2022-11-05 17:16:08 UTC\",\"Gustavo Manzanilla\",\"SRID=4326;POINT(-98.2198474556 19.0432139247)\",\"19.0432139247\",\"-98.2198474556\",\"Tarjeta de d\\xc3\\xa9bito y/o cr\\xc3\\xa9dito\",\"no\",\"Ablandador de agujas\",\"m\\xc3\\xa1s de 10 cuadras\",\"Autom\\xc3\\xb3vil\",\"1\",\"Articulos varios para cuando ya estas procesando los alimentos \",\"app\",\"no\",\"app\",\"no\",\"internet\",\"no\",\"No lo hago\",\"no\",\"Banco,Tienda de conveniencia (e.g. OXXO)\",\"yes\",\"yes\",\"Entrega a domicilio\",\"10\",\"7\",\"2\",\"45\",\"45\",\"45\",\"Male\",\"Dairy products\",\"Dibagasa\",\"1 Photo\"\\n\"ab3b46a0-005d-444b-8192-69f5dfb2e136\",\"November 3, 2022\",\"2022-11-03 20:32:56 UTC\",\"Daniel Serrano\",\"SRID=4326;POINT(-98.2641407847 19.0346021504)\",\"19.0346021504\",\"-98.2641407847\",\"Efectivo\",\"yes\",\"\",\"4 km\",\"Autom\\xc3\\xb3vil\",\"2\",\"\",\"No lo hago\",\"yes\",\"No lo hago\",\"yes\",\"No lo hago\",\"yes\",\"No lo hago\",\"yes\",\"No lo hago\",\"yes\",\"no\",\"\",\"8\",\"12\",\"0\",\"70\",\"150\",\"18\",\"Male\",\"Grocery store (aka. nanostore)\",\"Minisuper Rayitas\",\"1 Photo\"\\n\"f7c8c700-376c-4cd7-869c-6c37877dfd24\",\"November 3, 2022\",\"2022-11-03 20:20:57 UTC\",\"Daniel Serrano\",\"SRID=4326;POINT(-98.2666493207 19.0350601336)\",\"19.0350601336\",\"-98.2666493207\",\"Efectivo\",\"yes\",\"\",\"30 min\",\"Autom\\xc3\\xb3vil\",\"1\",\"\",\"CFE\",\"yes\",\"Sistema de agua\",\"yes\",\"Proveedor de gas\",\"yes\",\"No lo hago\",\"yes\",\"linea\",\"yes\",\"yes\",\"Los anteriores mencionados\",\"10\",\"0\",\"0\",\"50\",\"100\",\"20\",\"Male\",\"Grocery store (aka. nanostore)\",\"La universal \",\"1 Photo\"\\n\"ee7ac407-4767-47b1-93b3-d7e09b49faec\",\"November 3, 2022\",\"2022-11-03 20:15:32 UTC\",\"Daniel Serrano\",\"SRID=4326;POINT(-98.2671002671 19.0352236761)\",\"19.0352236761\",\"-98.2671002671\",\"Efectivo\",\"yes\",\"\",\"20 min\",\"Autom\\xc3\\xb3vil\",\"1\",\"\",\"No lo hago\",\"no\",\"No lo hago\",\"no\",\"No lo hago\",\"no\",\"No lo hago\",\"no\",\"No lo hago\",\"no\",\"no\",\"\",\"15\",\"10\",\"0\",\"100\",\"100\",\"15\",\"Male\",\"Micro-restaurant (aka. fondita)\",\"Taquer\\xc3\\xada don Jorge \",\"1 Photo\"\\n\"f65a8190-df80-440e-83bc-2639decfffd0\",\"November 3, 2022\",\"2022-11-03 20:05:31 UTC\",\"Daniel Serrano\",\"SRID=4326;POINT(-98.2678556442 19.0352804088)\",\"19.0352804088\",\"-98.2678556442\",\"Efectivo\",\"yes\",\"\",\"30 min\",\"Transporte p\\xc3\\xbablico\",\"1\",\"\",\"No lo hago\",\"no\",\"No lo hago\",\"no\",\"No lo hago\",\"no\",\"No lo hago\",\"no\",\"No lo hago\",\"no\",\"no\",\"\",\"1\",\"1\",\"0\",\"50\",\"70\",\"21\",\"Female\",\"Cafeteria\",\"La parrilla del lobo\",\"1 Photo\"\\n\"70f42238-83b5-4a16-9f2e-a758efb8afb0\",\"November 3, 2022\",\"2022-11-03 20:04:35 UTC\",\"Fernando Gonz\\xc3\\xa1lezinactivo\",\"SRID=4326;POINT(-98.2678617 19.0354511)\",\"19.0354511\",\"-98.2678617\",\"Efectivo\",\"yes\",\"\",\"0 a 3 cuadras\",\"A pie\",\"1\",\"\",\"No lo hago\",\"no\",\"No lo hago\",\"no\",\"No lo hago\",\"no\",\"Tienda de conveniencia (e.g. OXXO)\",\"no\",\"No lo hago\",\"no\",\"no\",\"\",\"3\",\"2\",\"0\",\"0\",\"0\",\"18\",\"Male\",\"Cafeteria\",\"La Parrilla del lobo\",\"1 Photo\"\\n\"e4727f46-797f-4344-b183-0deeed11750f\",\"November 3, 2022\",\"2022-11-03 20:04:34 UTC\",\"Fernando Gonz\\xc3\\xa1lezinactivo\",\"SRID=4326;POINT(-98.2678314 19.0354858)\",\"19.0354858\",\"-98.2678314\",\"Efectivo\",\"yes\",\"\",\"m\\xc3\\xa1s de 10 cuadras\",\"Didi\",\"1\",\"\",\"No lo hago\",\"no\",\"No lo hago\",\"no\",\"No lo hago\",\"no\",\"Tienda de conveniencia (e.g. OXXO)\",\"no\",\"No lo hago\",\"no\",\"no\",\"\",\"2\",\"4\",\"0\",\"30\",\"100\",\"18\",\"Male\",\"Cafeteria\",\"Crudopolis\",\"1 Photo\"\\n\"0a5616e1-62cd-4f28-a282-9b34db145752\",\"November 3, 2022\",\"2022-11-03 19:58:24 UTC\",\"Daniel Serrano\",\"SRID=4326;POINT(-98.2679243758 19.0353989453)\",\"19.0353989453\",\"-98.2679243758\",\"Efectivo\",\"yes\",\"\",\"4 a 6 cuadras\",\"Transporte p\\xc3\\xbablico\",\"1\",\"\",\"No lo hago\",\"no\",\"No lo hago\",\"no\",\"No lo hago\",\"no\",\"No lo hago\",\"no\",\"No lo hago\",\"no\",\"no\",\"\",\"0\",\"3\",\"0\",\"150\",\"1000\",\"18\",\"Male\",\"Cafeteria\",\"Crudopolis \",\"1 Photo\"\\n'}"
            ]
          },
          "metadata": {},
          "execution_count": 95
        }
      ],
      "source": [
        "from google.colab import files\n",
        "files.upload()\n"
      ]
    },
    {
      "cell_type": "code",
      "execution_count": null,
      "metadata": {
        "id": "4FyMF9O-cwwu"
      },
      "outputs": [],
      "source": [
        "data=pd.read_csv('consumer.csv') #leemos los datos para una mejor interpretacion "
      ]
    },
    {
      "cell_type": "code",
      "execution_count": 96,
      "metadata": {
        "id": "5nRD6N7Sc4hS",
        "colab": {
          "base_uri": "https://localhost:8080/"
        },
        "outputId": "5aeb6872-8462-456f-f35c-89892a859057"
      },
      "outputs": [
        {
          "output_type": "stream",
          "name": "stdout",
          "text": [
            "<class 'pandas.core.frame.DataFrame'>\n",
            "RangeIndex: 115 entries, 0 to 114\n",
            "Data columns (total 36 columns):\n",
            " #   Column                                    Non-Null Count  Dtype  \n",
            "---  ------                                    --------------  -----  \n",
            " 0   _record_id                                115 non-null    object \n",
            " 1   _title                                    115 non-null    object \n",
            " 2   _server_updated_at                        115 non-null    object \n",
            " 3   _updated_by                               115 non-null    object \n",
            " 4   _geometry                                 115 non-null    object \n",
            " 5   _latitude                                 115 non-null    float64\n",
            " 6   _longitude                                115 non-null    float64\n",
            " 7   282_payment_method_that_purchase          115 non-null    object \n",
            " 8   283_fulfill_needs                         115 non-null    object \n",
            " 9   300_did_not_find                          6 non-null      object \n",
            " 10  237_distance_household_interviewee        115 non-null    object \n",
            " 11  299_means_transportation_consumer         115 non-null    object \n",
            " 12  238_frequency_buying_store                115 non-null    int64  \n",
            " 13  284_additional_products_store             4 non-null      object \n",
            " 14  301_electricity_bill                      115 non-null    object \n",
            " 15  305_electricity_bill_store                108 non-null    object \n",
            " 16  302_water_bill                            115 non-null    object \n",
            " 17  306_water_bill_store                      111 non-null    object \n",
            " 18  303_gas_bill                              115 non-null    object \n",
            " 19  307_gas_bill_store                        112 non-null    object \n",
            " 20  286_topups                                115 non-null    object \n",
            " 21  308_topups_in_store                       103 non-null    object \n",
            " 22  287_wire_transfers                        115 non-null    object \n",
            " 23  309_wiretransfers_in_store                113 non-null    object \n",
            " 24  320_other_services_in_store               115 non-null    object \n",
            " 25  304_additional_services_store             29 non-null     object \n",
            " 26  81_number_online_purchases_month          115 non-null    int64  \n",
            " 27  288_number_app_purchases_month            115 non-null    int64  \n",
            " 28  289_number_whatsapp_purchases_month       115 non-null    int64  \n",
            " 29  83_willingness_ultrafast_delivery         115 non-null    int64  \n",
            " 30  84_willingness_sameday_delivery           115 non-null    int64  \n",
            " 31  241_age_of_the_interviewee                115 non-null    int64  \n",
            " 32  240_gender_interviewee                    115 non-null    object \n",
            " 33  indicate_the_type_of_store                115 non-null    object \n",
            " 34  name_of_the_store                         115 non-null    object \n",
            " 35  storefront_picture_just_once_if_possible  104 non-null    object \n",
            "dtypes: float64(2), int64(7), object(27)\n",
            "memory usage: 32.5+ KB\n"
          ]
        }
      ],
      "source": [
        "data.info() #desplegamos la información para observar las columnas\n"
      ]
    },
    {
      "cell_type": "code",
      "execution_count": null,
      "metadata": {
        "id": "Kjbb2MtjdaX4",
        "outputId": "e872f9a8-07bd-4513-fea8-777e7d530011",
        "colab": {
          "base_uri": "https://localhost:8080/"
        }
      },
      "outputs": [
        {
          "output_type": "execute_result",
          "data": {
            "text/plain": [
              "_record_id                                    0\n",
              "_title                                        0\n",
              "_server_updated_at                            0\n",
              "_updated_by                                   0\n",
              "_geometry                                     0\n",
              "_latitude                                     0\n",
              "_longitude                                    0\n",
              "282_payment_method_that_purchase              0\n",
              "283_fulfill_needs                             0\n",
              "300_did_not_find                            109\n",
              "237_distance_household_interviewee            0\n",
              "299_means_transportation_consumer             0\n",
              "238_frequency_buying_store                    0\n",
              "284_additional_products_store               111\n",
              "301_electricity_bill                          0\n",
              "305_electricity_bill_store                    7\n",
              "302_water_bill                                0\n",
              "306_water_bill_store                          4\n",
              "303_gas_bill                                  0\n",
              "307_gas_bill_store                            3\n",
              "286_topups                                    0\n",
              "308_topups_in_store                          12\n",
              "287_wire_transfers                            0\n",
              "309_wiretransfers_in_store                    2\n",
              "320_other_services_in_store                   0\n",
              "304_additional_services_store                86\n",
              "81_number_online_purchases_month              0\n",
              "288_number_app_purchases_month                0\n",
              "289_number_whatsapp_purchases_month           0\n",
              "83_willingness_ultrafast_delivery             0\n",
              "84_willingness_sameday_delivery               0\n",
              "241_age_of_the_interviewee                    0\n",
              "240_gender_interviewee                        0\n",
              "indicate_the_type_of_store                    0\n",
              "name_of_the_store                             0\n",
              "storefront_picture_just_once_if_possible     11\n",
              "dtype: int64"
            ]
          },
          "metadata": {},
          "execution_count": 89
        }
      ],
      "source": [
        "valores_nulos=data.isnull().sum() #Checamos los valores nulos de todo nuestro data frame para trabajar con ellos \n",
        "valores_nulos"
      ]
    },
    {
      "cell_type": "code",
      "execution_count": null,
      "metadata": {
        "id": "_JyDOX84erDI"
      },
      "outputs": [],
      "source": [
        "data1=data.fillna(method='bfill') #eliminamos todos los valores nulos numéricos con el comando bfill para comenzar con el proceso de trabajo \n",
        "data1"
      ]
    },
    {
      "cell_type": "code",
      "execution_count": null,
      "metadata": {
        "id": "w-LaSYpLezgq"
      },
      "outputs": [],
      "source": [
        "valores_nulos=data1.isnull().sum() #Una vez eliminados los nulos procedemos a checar de nuevo para observar como esta nuestro data rame \n",
        "valores_nulos"
      ]
    },
    {
      "cell_type": "code",
      "execution_count": null,
      "metadata": {
        "id": "P7Nw4zMXfE0l"
      },
      "outputs": [],
      "source": [
        "data2=data1.copy()\n",
        "data2=data2.fillna(round(data.mean(),1))\n",
        "data2"
      ]
    },
    {
      "cell_type": "code",
      "source": [
        "data2['300_did_not_find']=data2['300_did_not_find'].fillna(method='ffill')\n",
        "data2['284_additional_products_store']=data2['284_additional_products_store'].fillna(method='ffill')\n",
        "data2['304_additional_services_store']=data2['304_additional_services_store'].fillna(method='ffill')\n"
      ],
      "metadata": {
        "id": "qEb9Yr7BPsde"
      },
      "execution_count": null,
      "outputs": []
    },
    {
      "cell_type": "code",
      "execution_count": null,
      "metadata": {
        "id": "yGPDW0FHfp-b"
      },
      "outputs": [],
      "source": [
        "valores_nulos=data2.isnull().sum()\n",
        "valores_nulos"
      ]
    },
    {
      "cell_type": "code",
      "execution_count": null,
      "metadata": {
        "colab": {
          "base_uri": "https://localhost:8080/",
          "height": 299
        },
        "id": "vnz28mVGgKm4",
        "outputId": "748b8c3a-3b21-484a-8ac8-34ca67eadece"
      },
      "outputs": [
        {
          "output_type": "display_data",
          "data": {
            "text/plain": [
              "<Figure size 1800x1296 with 0 Axes>"
            ]
          },
          "metadata": {}
        },
        {
          "output_type": "display_data",
          "data": {
            "text/plain": [
              "<Figure size 432x288 with 1 Axes>"
            ],
            "image/png": "[encoded data removed]"
          },
          "metadata": {
            "needs_background": "light"
          }
        }
      ],
      "source": [
        "#diagrama de caja de bigote de todo el data\n",
        "fig=plt.figure(figsize=(25,18))\n",
        "data1.plot(kind='box',vert=False)\n",
        "plt.title('Valores Atipicos del dataframe')\n",
        "plt.show()"
      ]
    },
    {
      "cell_type": "code",
      "execution_count": null,
      "metadata": {
        "colab": {
          "base_uri": "https://localhost:8080/"
        },
        "outputId": "fd49e13b-fc0d-4a47-93dc-51a607812e3d",
        "id": "DF54zONKnBjn"
      },
      "outputs": [
        {
          "output_type": "stream",
          "name": "stdout",
          "text": [
            "Limite superior permitido 65.0\n",
            "Limite inferior permitido -7.0\n"
          ]
        }
      ],
      "source": [
        "y=data2['241_age_of_the_interviewee']\n",
        "p25=y.quantile(0.25)\n",
        "p75=y.quantile(0.75)\n",
        "iqr=p75-p25\n",
        "\n",
        "lsi=p75+1.5*iqr\n",
        "lii=p25-1.5*iqr\n",
        "\n",
        "print('Limite superior permitido', lsi)\n",
        "print('Limite inferior permitido', lii)"
      ]
    },
    {
      "cell_type": "code",
      "source": [
        "outliers_iqr=data2[(y>lsi)|(y<lii)] #encuentra los valores que se salen\n",
        "outliers_iqr"
      ],
      "metadata": {
        "id": "jPkXI6kirNpZ"
      },
      "execution_count": null,
      "outputs": []
    },
    {
      "cell_type": "code",
      "source": [
        "outliers1_iqr=data2[(y<lsi)&(y>lii)] #genera el data frame sin valores atipicos\n",
        "outliers1_iqr\n"
      ],
      "metadata": {
        "id": "2A2VtR19rpDo"
      },
      "execution_count": null,
      "outputs": []
    },
    {
      "cell_type": "code",
      "source": [
        "#diagrama de caja de bigote de todo el data\n",
        "fig=plt.figure(figsize=(5,3))\n",
        "plt.boxplot(outliers1_iqr['241_age_of_the_interviewee'])\n",
        "plt.title('Valores atipicos de la edad de los entrevistados')\n",
        "plt.show()"
      ],
      "metadata": {
        "colab": {
          "base_uri": "https://localhost:8080/",
          "height": 227
        },
        "outputId": "a8d2d2dc-ce38-4363-8fc0-d80e2c80674f",
        "id": "E47Eb9Enr6Zj"
      },
      "execution_count": 97,
      "outputs": [
        {
          "output_type": "display_data",
          "data": {
            "text/plain": [
              "<Figure size 360x216 with 1 Axes>"
            ],
            "image/png": "[encoded data removed]"
          },
          "metadata": {
            "needs_background": "light"
          }
        }
      ]
    },
    {
      "cell_type": "code",
      "source": [
        "y=data2['84_willingness_sameday_delivery']\n",
        "p25=y.quantile(0.25)\n",
        "p75=y.quantile(0.75)\n",
        "iqr=p75-p25\n",
        "\n",
        "lsi=p75+1.5*iqr\n",
        "lii=p25-1.5*iqr\n",
        "\n",
        "print('Limite superior permitido', lsi)\n",
        "print('Limite inferior permitido', lii)"
      ],
      "metadata": {
        "colab": {
          "base_uri": "https://localhost:8080/"
        },
        "id": "cgKImCktp3hg",
        "outputId": "26763175-5f4c-4480-b6d5-df30d6966454"
      },
      "execution_count": null,
      "outputs": [
        {
          "output_type": "stream",
          "name": "stdout",
          "text": [
            "Limite superior permitido 231.25\n",
            "Limite inferior permitido -118.75\n"
          ]
        }
      ]
    },
    {
      "cell_type": "code",
      "source": [
        "outliers_iqr=data2[(y>lsi)|(y<lii)] #encuentra los valores que se salen\n",
        "outliers_iqr"
      ],
      "metadata": {
        "id": "5gNurkSqrO7N"
      },
      "execution_count": null,
      "outputs": []
    },
    {
      "cell_type": "code",
      "source": [
        "outliers1_iqr=data2[(y<lsi)&(y>lii)] #genera el data frame sin valores atipicos\n",
        "outliers1_iqr"
      ],
      "metadata": {
        "id": "xzqWbJXJrqiP"
      },
      "execution_count": null,
      "outputs": []
    },
    {
      "cell_type": "code",
      "source": [
        "#diagrama de caja de bigote de todo el data\n",
        "fig=plt.figure(figsize=(5,3))\n",
        "plt.boxplot(outliers1_iqr['84_willingness_sameday_delivery'])\n",
        "plt.title('Valores atipicos de la entrega del mismo dia')\n",
        "plt.show()"
      ],
      "metadata": {
        "colab": {
          "base_uri": "https://localhost:8080/",
          "height": 227
        },
        "outputId": "417b2b61-19d3-488a-d616-cecf51bca9fc",
        "id": "YTml3GPdr74g"
      },
      "execution_count": null,
      "outputs": [
        {
          "output_type": "display_data",
          "data": {
            "text/plain": [
              "<Figure size 360x216 with 1 Axes>"
            ],
            "image/png": "[encoded data removed]"
          },
          "metadata": {
            "needs_background": "light"
          }
        }
      ]
    },
    {
      "cell_type": "code",
      "source": [
        "y=data2['83_willingness_ultrafast_delivery' ]\n",
        "p25=y.quantile(0.25)\n",
        "p75=y.quantile(0.75)\n",
        "iqr=p75-p25\n",
        "\n",
        "lsi=p75+1.5*iqr\n",
        "lii=p25-1.5*iqr\n",
        "\n",
        "print('Limite superior permitido', lsi)\n",
        "print('Limite inferior permitido', lii)"
      ],
      "metadata": {
        "colab": {
          "base_uri": "https://localhost:8080/"
        },
        "id": "z-mo-nPXp3wP",
        "outputId": "c4c61d74-0f18-4d49-e612-e68e699b85aa"
      },
      "execution_count": null,
      "outputs": [
        {
          "output_type": "stream",
          "name": "stdout",
          "text": [
            "Limite superior permitido 102.5\n",
            "Limite inferior permitido -37.5\n"
          ]
        }
      ]
    },
    {
      "cell_type": "code",
      "source": [
        "outliers_iqr=data2[(y>lsi)|(y<lii)] #encuentra los valores que se salen\n",
        "outliers_iqr"
      ],
      "metadata": {
        "id": "mB2-qsilrPgO"
      },
      "execution_count": null,
      "outputs": []
    },
    {
      "cell_type": "code",
      "source": [
        "outliers1_iqr=data2[(y<lsi)&(y>lii)] #genera el data frame sin valores atipicos\n",
        "outliers1_iqr"
      ],
      "metadata": {
        "id": "MI5cDEMhrsuH"
      },
      "execution_count": null,
      "outputs": []
    },
    {
      "cell_type": "code",
      "source": [
        "#diagrama de caja de bigote de todo el data\n",
        "fig=plt.figure(figsize=(5,3))\n",
        "plt.boxplot(outliers1_iqr['83_willingness_ultrafast_delivery'])\n",
        "plt.title('Valores atipicos de entrega ultra rapida')\n",
        "plt.show()"
      ],
      "metadata": {
        "colab": {
          "base_uri": "https://localhost:8080/",
          "height": 227
        },
        "outputId": "45ab4a62-8568-4ac9-fccf-09af64d80b83",
        "id": "2tqu6oPBr80G"
      },
      "execution_count": null,
      "outputs": [
        {
          "output_type": "display_data",
          "data": {
            "text/plain": [
              "<Figure size 360x216 with 1 Axes>"
            ],
            "image/png": "[encoded data removed]"
          },
          "metadata": {
            "needs_background": "light"
          }
        }
      ]
    },
    {
      "cell_type": "code",
      "source": [
        "y=data2['289_number_whatsapp_purchases_month' ]\n",
        "p25=y.quantile(0.25)\n",
        "p75=y.quantile(0.75)\n",
        "iqr=p75-p25\n",
        "\n",
        "lsi=p75+1.5*iqr\n",
        "lii=p25-1.5*iqr\n",
        "\n",
        "print('Limite superior permitido', lsi)\n",
        "print('Limite inferior permitido', lii)"
      ],
      "metadata": {
        "colab": {
          "base_uri": "https://localhost:8080/"
        },
        "id": "MwTv0ttwp35K",
        "outputId": "283b52a7-6f80-453f-ba68-69d8865f6430"
      },
      "execution_count": null,
      "outputs": [
        {
          "output_type": "stream",
          "name": "stdout",
          "text": [
            "Limite superior permitido 2.5\n",
            "Limite inferior permitido -1.5\n"
          ]
        }
      ]
    },
    {
      "cell_type": "code",
      "source": [
        "outliers_iqr=data2[(y>lsi)|(y<lii)] #encuentra los valores que se salen\n",
        "outliers_iqr"
      ],
      "metadata": {
        "id": "NDrpNqEmrP98"
      },
      "execution_count": null,
      "outputs": []
    },
    {
      "cell_type": "code",
      "source": [
        "outliers1_iqr=data2[(y<lsi)&(y>lii)] #genera el data frame sin valores atipicos\n",
        "outliers1_iqr"
      ],
      "metadata": {
        "id": "s1ei34Y3rtw0"
      },
      "execution_count": null,
      "outputs": []
    },
    {
      "cell_type": "code",
      "source": [
        "#diagrama de caja de bigote de todo el data\n",
        "fig=plt.figure(figsize=(5,3))\n",
        "plt.boxplot(outliers1_iqr['289_number_whatsapp_purchases_month'])\n",
        "plt.title('Valores atipicos de compras por whatsapp al mes')\n",
        "plt.show()"
      ],
      "metadata": {
        "colab": {
          "base_uri": "https://localhost:8080/",
          "height": 227
        },
        "outputId": "60996065-af8a-4e49-f7a2-a45b2f0ada95",
        "id": "8P0oWFw8r93Q"
      },
      "execution_count": null,
      "outputs": [
        {
          "output_type": "display_data",
          "data": {
            "text/plain": [
              "<Figure size 360x216 with 1 Axes>"
            ],
            "image/png": "[encoded data removed]"
          },
          "metadata": {
            "needs_background": "light"
          }
        }
      ]
    },
    {
      "cell_type": "code",
      "source": [
        "y=data2['288_number_app_purchases_month' ]\n",
        "p25=y.quantile(0.25)\n",
        "p75=y.quantile(0.75)\n",
        "iqr=p75-p25\n",
        "\n",
        "lsi=p75+1.5*iqr\n",
        "lii=p25-1.5*iqr\n",
        "\n",
        "print('Limite superior permitido', lsi)\n",
        "print('Limite inferior permitido', lii)"
      ],
      "metadata": {
        "colab": {
          "base_uri": "https://localhost:8080/"
        },
        "outputId": "5ac10e3b-44a0-4a86-cf80-6075ffa71e9b",
        "id": "kp7gFMlUqozd"
      },
      "execution_count": null,
      "outputs": [
        {
          "output_type": "stream",
          "name": "stdout",
          "text": [
            "Limite superior permitido 12.5\n",
            "Limite inferior permitido -7.5\n"
          ]
        }
      ]
    },
    {
      "cell_type": "code",
      "source": [
        "outliers_iqr=data2[(y>lsi)|(y<lii)] #encuentra los valores que se salen\n",
        "outliers_iqr"
      ],
      "metadata": {
        "id": "mZ3dxcf5rQXu"
      },
      "execution_count": null,
      "outputs": []
    },
    {
      "cell_type": "code",
      "source": [
        "outliers1_iqr=data2[(y<lsi)&(y>lii)] #genera el data frame sin valores atipicos\n",
        "outliers1_iqr"
      ],
      "metadata": {
        "id": "llzVDVeQru9I"
      },
      "execution_count": null,
      "outputs": []
    },
    {
      "cell_type": "code",
      "source": [
        "#diagrama de caja de bigote de todo el data\n",
        "fig=plt.figure(figsize=(5,3))\n",
        "plt.boxplot(outliers1_iqr['288_number_app_purchases_month'])\n",
        "plt.title('Valores atipicos de compras mensuales en app')\n",
        "plt.show()"
      ],
      "metadata": {
        "colab": {
          "base_uri": "https://localhost:8080/",
          "height": 227
        },
        "outputId": "f5e1780e-98fa-4ab9-87de-714cc36bae81",
        "id": "fMOk8sNdr-h8"
      },
      "execution_count": null,
      "outputs": [
        {
          "output_type": "display_data",
          "data": {
            "text/plain": [
              "<Figure size 360x216 with 1 Axes>"
            ],
            "image/png": "[encoded data removed]"
          },
          "metadata": {
            "needs_background": "light"
          }
        }
      ]
    },
    {
      "cell_type": "code",
      "source": [
        "y=data2['81_number_online_purchases_month' ]\n",
        "p25=y.quantile(0.25)\n",
        "p75=y.quantile(0.75)\n",
        "iqr=p75-p25\n",
        "\n",
        "lsi=p75+1.5*iqr\n",
        "lii=p25-1.5*iqr\n",
        "\n",
        "print('Limite superior permitido', lsi)\n",
        "print('Limite inferior permitido', lii)"
      ],
      "metadata": {
        "colab": {
          "base_uri": "https://localhost:8080/"
        },
        "id": "LbjeOmYtqyFz",
        "outputId": "db8d7e60-d704-4817-a159-1a21b505ea33"
      },
      "execution_count": null,
      "outputs": [
        {
          "output_type": "stream",
          "name": "stdout",
          "text": [
            "Limite superior permitido 6.0\n",
            "Limite inferior permitido -2.0\n"
          ]
        }
      ]
    },
    {
      "cell_type": "code",
      "source": [
        "outliers_iqr=data2[(y>lsi)|(y<lii)] #encuentra los valores que se salen\n",
        "outliers_iqr"
      ],
      "metadata": {
        "id": "Skj4GKLYrQ6l"
      },
      "execution_count": null,
      "outputs": []
    },
    {
      "cell_type": "code",
      "source": [
        "outliers1_iqr=data2[(y<lsi)&(y>lii)] #genera el data frame sin valores atipicos\n",
        "outliers1_iqr"
      ],
      "metadata": {
        "id": "1ElHKOKcrweN"
      },
      "execution_count": null,
      "outputs": []
    },
    {
      "cell_type": "code",
      "source": [
        "#diagrama de caja de bigote de todo el data\n",
        "fig=plt.figure(figsize=(5,3))\n",
        "plt.boxplot(outliers1_iqr['81_number_online_purchases_month'])\n",
        "plt.title('Valores atipicos de las compras online')\n",
        "plt.show()"
      ],
      "metadata": {
        "colab": {
          "base_uri": "https://localhost:8080/",
          "height": 227
        },
        "outputId": "94e13d57-bb4e-43d8-f214-91bae4623f05",
        "id": "PsEar2MRr_Ut"
      },
      "execution_count": null,
      "outputs": [
        {
          "output_type": "display_data",
          "data": {
            "text/plain": [
              "<Figure size 360x216 with 1 Axes>"
            ],
            "image/png": "[encoded data removed]"
          },
          "metadata": {
            "needs_background": "light"
          }
        }
      ]
    },
    {
      "cell_type": "code",
      "source": [
        "y=data2['238_frequency_buying_store' ]\n",
        "p25=y.quantile(0.25)\n",
        "p75=y.quantile(0.75)\n",
        "iqr=p75-p25\n",
        "\n",
        "lsi=p75+1.5*iqr\n",
        "lii=p25-1.5*iqr\n",
        "\n",
        "print('Limite superior permitido', lsi)\n",
        "print('Limite inferior permitido', lii)"
      ],
      "metadata": {
        "colab": {
          "base_uri": "https://localhost:8080/"
        },
        "outputId": "3fa1010c-78a6-4fb2-d0c8-3dbb43976e19",
        "id": "gTUZBLrQq9ZN"
      },
      "execution_count": null,
      "outputs": [
        {
          "output_type": "stream",
          "name": "stdout",
          "text": [
            "Limite superior permitido 6.0\n",
            "Limite inferior permitido -2.0\n"
          ]
        }
      ]
    },
    {
      "cell_type": "code",
      "source": [
        "outliers_iqr=data2[(y>lsi)|(y<lii)] #encuentra los valores que se salen\n",
        "outliers_iqr"
      ],
      "metadata": {
        "id": "nvXV7xkjnYqx"
      },
      "execution_count": null,
      "outputs": []
    },
    {
      "cell_type": "code",
      "source": [
        "outliers1_iqr=data2[(y<lsi)&(y>lii)] #genera el data frame sin valores atipicos\n",
        "outliers1_iqr"
      ],
      "metadata": {
        "id": "u2XK5GFLngYN"
      },
      "execution_count": null,
      "outputs": []
    },
    {
      "cell_type": "code",
      "source": [
        "#diagrama de caja de bigote de todo el data\n",
        "fig=plt.figure(figsize=(5,3))\n",
        "plt.boxplot(outliers1_iqr['238_frequency_buying_store'])\n",
        "plt.title('Valores atipicos de frecuencia comprando en tienda')\n",
        "plt.show()"
      ],
      "metadata": {
        "colab": {
          "base_uri": "https://localhost:8080/",
          "height": 227
        },
        "id": "FZbzN1PLoDv1",
        "outputId": "8d8bb2d6-68b7-4e3a-d0e6-4ce9f143746c"
      },
      "execution_count": null,
      "outputs": [
        {
          "output_type": "display_data",
          "data": {
            "text/plain": [
              "<Figure size 360x216 with 1 Axes>"
            ],
            "image/png": "[encoded data removed]"
          },
          "metadata": {
            "needs_background": "light"
          }
        }
      ]
    },
    {
      "cell_type": "code",
      "execution_count": null,
      "metadata": {
        "id": "WzlkyltkvKNS"
      },
      "outputs": [],
      "source": [
        "outliers1_iqr.to_csv('Examen_consumer.csv')"
      ]
    },
    {
      "cell_type": "code",
      "execution_count": null,
      "metadata": {
        "colab": {
          "base_uri": "https://localhost:8080/",
          "height": 17
        },
        "id": "xQ2QQiXNv4r5",
        "outputId": "cb1e0fe1-93be-4a31-cc00-2f29e5564047"
      },
      "outputs": [
        {
          "output_type": "display_data",
          "data": {
            "text/plain": [
              "<IPython.core.display.Javascript object>"
            ],
            "application/javascript": [
              "\n",
              "    async function download(id, filename, size) {\n",
              "      if (!google.colab.kernel.accessAllowed) {\n",
              "        return;\n",
              "      }\n",
              "      const div = document.createElement('div');\n",
              "      const label = document.createElement('label');\n",
              "      label.textContent = `Downloading \"${filename}\": `;\n",
              "      div.appendChild(label);\n",
              "      const progress = document.createElement('progress');\n",
              "      progress.max = size;\n",
              "      div.appendChild(progress);\n",
              "      document.body.appendChild(div);\n",
              "\n",
              "      const buffers = [];\n",
              "      let downloaded = 0;\n",
              "\n",
              "      const channel = await google.colab.kernel.comms.open(id);\n",
              "      // Send a message to notify the kernel that we're ready.\n",
              "      channel.send({})\n",
              "\n",
              "      for await (const message of channel.messages) {\n",
              "        // Send a message to notify the kernel that we're ready.\n",
              "        channel.send({})\n",
              "        if (message.buffers) {\n",
              "          for (const buffer of message.buffers) {\n",
              "            buffers.push(buffer);\n",
              "            downloaded += buffer.byteLength;\n",
              "            progress.value = downloaded;\n",
              "          }\n",
              "        }\n",
              "      }\n",
              "      const blob = new Blob(buffers, {type: 'application/binary'});\n",
              "      const a = document.createElement('a');\n",
              "      a.href = window.URL.createObjectURL(blob);\n",
              "      a.download = filename;\n",
              "      div.appendChild(a);\n",
              "      a.click();\n",
              "      div.remove();\n",
              "    }\n",
              "  "
            ]
          },
          "metadata": {}
        },
        {
          "output_type": "display_data",
          "data": {
            "text/plain": [
              "<IPython.core.display.Javascript object>"
            ],
            "application/javascript": [
              "download(\"download_2782a9ff-d05d-4b3f-953e-a04a4e88240f\", \"Examen_consumer.csv\", 50328)"
            ]
          },
          "metadata": {}
        }
      ],
      "source": [
        "from google.colab import files \n",
        "files.download('Examen_consumer.csv')"
      ]
    }
  ],
  "metadata": {
    "colab": {
      "provenance": [],
      "authorship_tag": "ABX9TyP1gDRz99gsnzToK92ffUsh",
      "include_colab_link": true
    },
    "kernelspec": {
      "display_name": "Python 3",
      "name": "python3"
    },
    "language_info": {
      "name": "python"
    }
  },
  "nbformat": 4,
  "nbformat_minor": 0
}