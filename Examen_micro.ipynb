{
  "cells": [
    {
      "cell_type": "markdown",
      "metadata": {
        "id": "view-in-github",
        "colab_type": "text"
      },
      "source": [
        "<a href=\"https://colab.research.google.com/github/MauBarcena/Examen_1_Mauricio_Barcena/blob/main/Examen_micro.ipynb\" target=\"_parent\"><img src=\"https://colab.research.google.com/assets/colab-badge.svg\" alt=\"Open In Colab\"/></a>"
      ]
    },
    {
      "cell_type": "code",
      "execution_count": 3,
      "metadata": {
        "id": "O6TjSr4cb3gH"
      },
      "outputs": [],
      "source": [
        "import pandas as pd\n",
        "import numpy as np\n",
        "import matplotlib.pyplot as plt"
      ]
    },
    {
      "cell_type": "code",
      "execution_count": null,
      "metadata": {
        "id": "U3yIAnVKcEY6"
      },
      "outputs": [],
      "source": [
        "from google.colab import files\n",
        "files.upload()\n"
      ]
    },
    {
      "cell_type": "code",
      "execution_count": 5,
      "metadata": {
        "id": "4FyMF9O-cwwu"
      },
      "outputs": [],
      "source": [
        "data=pd.read_csv('micro.csv') #leemos los datos para una mejor interpretacion "
      ]
    },
    {
      "cell_type": "code",
      "execution_count": null,
      "metadata": {
        "id": "5nRD6N7Sc4hS"
      },
      "outputs": [],
      "source": [
        "data.info() #desplegamos la información para observar las columnas\n"
      ]
    },
    {
      "cell_type": "code",
      "execution_count": null,
      "metadata": {
        "id": "Kjbb2MtjdaX4"
      },
      "outputs": [],
      "source": [
        "valores_nulos=data.isnull().sum() #Checamos los valores nulos de todo nuestro data frame para trabajar con ellos \n",
        "valores_nulos"
      ]
    },
    {
      "cell_type": "code",
      "execution_count": null,
      "metadata": {
        "id": "w-LaSYpLezgq"
      },
      "outputs": [],
      "source": [
        "valores_nulos=data1.isnull().sum() #Una vez eliminados los nulos procedemos a checar de nuevo para observar como esta nuestro data rame \n",
        "valores_nulos"
      ]
    },
    {
      "cell_type": "code",
      "execution_count": null,
      "metadata": {
        "id": "_JyDOX84erDI"
      },
      "outputs": [],
      "source": [
        "data1=data.fillna(method='bfill') #eliminamos todos los valores nulos numéricos con el comando bfill para comenzar con el proceso de trabajo \n",
        "data1"
      ]
    },
    {
      "cell_type": "code",
      "source": [
        "data2[\"318_shopkeeper_name\"]=data2[\"318_shopkeeper_name\"].fillna(\"318_shopkeeper_name\")\n",
        "data2[\"319_shopkeepers_last_name\"]=data2[\"319_shopkeepers_last_name\"].fillna(\"319_shopkeepers_last_name\")\n",
        "data2[\"236_whatsapp\"]=data2[\"236_whatsapp\"].fillna(\"236_whatsapp\")\n",
        "data2[\"235_email\"]=data2[\"235_email\"].fillna(\"235_email\")\n",
        "data2[\"145_number_direct_competitors\"]=data2[\"145_number_direct_competitors\"].fillna(\"145_number_direct_competitors\")\n",
        "data2[\"233_date_establishment\"]=data2[\"233_date_establishment\"].fillna(\"233_date_establishment\")\n",
        "data2[\"20_reviews_finances_monthly\"]=data2[\"20_reviews_finances_monthly\"].fillna(\"20_reviews_finances_monthly\")\n",
        "data2[\"2_current_permanent_employees\"]=data2[\"2_current_permanent_employees\"].fillna(\"2_current_permanent_employees\")\n",
        "data2[\"4_number_permanent_employees_last_year\"]=data2[\"4_number_permanent_employees_last_year\"].fillna(\"4_number_permanent_employees_last_year\")\n",
        "data2[\"5_change_store_space_last_year\"]=data2[\"5_change_store_space_last_year\"].fillna(\"5_change_store_space_last_year\")\n",
        "data2[\"49_inventory_records\"]=data2[\"49_inventory_records\"].fillna(\"49_inventory_records\")\n",
        "data2[\"310_burnout\"]=data2[\"310_burnout\"].fillna(\"310_burnout\")\n",
        "data2[\"24_burnout\"]=data2[\"24_burnout\"].fillna(\"24_burnout\")\n",
        "data2[\"210_sales_channels\"]=data2[\"210_sales_channels\"].fillna(\"210_sales_channels\")\n",
        "data2[\"186_internet_connection\"]=data2[\"186_internet_connection\"].fillna(\"186_internet_connection\")\n",
        "data2[\"19_tax_id\"]=data2[\"19_tax_id\"].fillna(\"19_tax_id\")\n",
        "data2[\"18_sales_records\"]=data2[\"18_sales_records\"].fillna(\"18_sales_records\")\n",
        "data2[\"270_card_extra_charge\"]=data2[\"270_card_extra_charge\"].fillna(\"270_card_extra_charge\")\n",
        "data2[\"155_sales_registers_used_for\"]=data2[\"155_sales_registers_used_for\"].fillna(\"155_sales_registers_used_for\")\n",
        "data2[\"103_number_own_fridges\"]=data2[\"103_number_own_fridges\"].fillna(\"103_number_own_fridges\")\n",
        "data2[\"189_payment_methods\"]=data2[\"189_payment_methods\"].fillna(\"189_payment_methods\")\n",
        "data2[\"271_card_fee\"]=data2[\"271_card_fee\"].fillna(\"271_card_fee\")\n",
        "data2[\"31_different_prices_payment_method\"]=data2[\"31_different_prices_payment_method\"].fillna(\"31_different_prices_payment_method\")\n",
        "data2[\"28_prefered_payment_method\"]=data2[\"28_prefered_payment_method\"].fillna(\"28_prefered_payment_method\")\n",
        "data2[\"269_cash_discount\"]=data2[\"269_cash_discount\"].fillna(\"269_cash_discount\")\n",
        "data2[\"275_platform_days_receive_money\"]=data2[\"275_platform_days_receive_money\"].fillna(\"275_platform_days_receive_money\")\n",
        "data2[\"30_payment_methods_large_purchases\"]=data2[\"30_payment_methods_large_purchases\"].fillna(\"30_payment_methods_large_purchases\")\n",
        "data2[\"272_card_days_receive_money\"]=data2[\"272_card_days_receive_money\"].fillna(\"272_card_days_receive_money\")\n",
        "data2[\"274_platform_fee\"]=data2[\"274_platform_fee\"].fillna(\"274_platform_fee\")\n",
        "data2[\"214_customer_relationship_tools\"]=data2[\"214_customer_relationship_tools\"].fillna(\"214_customer_relationship_tools\")\n",
        "data2[\"273_platform_extra_charge\"]=data2[\"273_platform_extra_charge\"].fillna(\"273_platform_extra_charge\")\n",
        "data2[\"227_agreement_ecommerce_platforms\"]=data2[\"227_agreement_ecommerce_platforms\"].fillna(\"227_agreement_ecommerce_platforms\")\n",
        "data2[\"33_credit_to_customers\"]=data2[\"33_credit_to_customers\"].fillna(\"33_credit_to_customers\")\n",
        "data2[\"276_expected_days_informal_credit\"]=data2[\"276_expected_days_informal_credit\"].fillna(\"276_expected_days_informal_credit\")\n",
        "data2[\"35_interest_rate\"]=data2[\"35_interest_rate\"].fillna(\"35_interest_rate\")\n",
        "data2[\"60_services\"]=data2[\"60_services\"].fillna(\"60_services\")\n",
        "data2[\"36_credit_default_rate\"]=data2[\"36_credit_default_rate\"].fillna(\"36_credit_default_rate\")\n",
        "data2[\"193_sales_planning_tools\"]=data2[\"193_sales_planning_tools\"].fillna(\"193_sales_planning_tools\")\n",
        "data2[\"315_frequency_topups\"]=data2[\"315_frequency_topups\"].fillna(\"315_frequency_topups\")\n",
        "data2[\"317_home_deliveries\"]=data2[\"317_home_deliveries\"].fillna(\"317_home_deliveries\")\n",
        "data2[\"62_frequency_only_services\"]=data2[\"62_frequency_only_services\"].fillna(\"62_frequency_only_services\")\n",
        "data2[\"38_average_margin_profits\"]=data2[\"38_average_margin_profits\"].fillna(\"38_average_margin_profits\")\n",
        "data2[\"79_delivery_vehicle\"]=data2[\"79_delivery_vehicle\"].fillna(\"79_delivery_vehicle\")\n",
        "data2[\"316_frequency_utility_bills\"]=data2[\"316_frequency_utility_bills\"].fillna(\"316_frequency_utility_bills\")\n",
        "data2[\"77_delivery_timeslots\"]=data2[\"77_delivery_timeslots\"].fillna(\"77_delivery_timeslots\")\n",
        "data2[\"66_percentaje_services_income\"]=data2[\"66_percentaje_services_income\"].fillna(\"66_percentaje_services_income\")\n",
        "data2[\"64_comission_services\"]=data2[\"64_comission_services\"].fillna(\"64_comission_services\")\n",
        "data2[\"69_why_not_services\"]=data2[\"69_why_not_services\"].fillna(\"69_why_not_services\")\n",
        "data2[\"42_willingness_share_inventory_data_suppliers\"]=data2[\"42_willingness_share_inventory_data_suppliers\"].fillna(\"42_willingness_share_inventory_data_suppliers\")\n",
        "data2[\"311_topups\"]=data2[\"311_topups\"].fillna(\"311_topups\")\n",
        "data2[\"44_willingness_inventory_management_suppliers\"]=data2[\"44_willingness_inventory_management_suppliers\"].fillna(\"44_willingness_inventory_management_suppliers\")\n",
        "data2[\"313_home_deliveries\"]=data2[\"313_home_deliveries\"].fillna(\"313_home_deliveries\")\n",
        "data2[\"58_willingness_share_sales_data_mse\"]=data2[\"58_willingness_share_sales_data_mse\"].fillna(\"58_willingness_share_sales_data_mse\")\n",
        "data2[\"43_willingness_share_sales_data_suppliers\"]=data2[\"43_willingness_share_sales_data_suppliers\"].fillna(\"43_willingness_share_sales_data_suppliers\")\n",
        "data2[\"312_payment_of_utilities\"]=data2[\"312_payment_of_utilities\"].fillna(\"312_payment_of_utilities\")\n",
        "data2[\"45_willingness_reorder_suppliers\"]=data2[\"45_willingness_reorder_suppliers\"].fillna(\"45_willingness_reorder_suppliers\")\n",
        "data2[\"59_willingness_share_sales_data_mse_better_prices\"]=data2[\"59_willingness_share_sales_data_mse_better_prices\"].fillna(\"59_willingness_share_sales_data_mse_better_prices\")\n",
        "data2[\"46_willingness_reorder_suppliers_variety\"]=data2[\"46_willingness_reorder_suppliers_variety\"].fillna(\"46_willingness_reorder_suppliers_variety\")\n",
        "data2[\"78_number_home_deliveries_week\"]=data2[\"78_number_home_deliveries_week\"].fillna(\"78_number_home_deliveries_week\")\n",
        "data2[\"47_willingness_reorder_suppliers_lower_prices\"]=data2[\"47_willingness_reorder_suppliers_lower_prices\"].fillna(\"47_willingness_reorder_suppliers_lower_prices\")\n",
        "data2[\"314_reception_delivery_packages\"]=data2[\"314_reception_delivery_packages\"].fillna(\"314_reception_delivery_packages\")\n",
        "data2[\"172_supplier_frequency\"]=data2[\"172_supplier_frequency\"].fillna(\"172_supplier_frequency\")\n",
        "data2[\"185_place_orders_suppliers\"]=data2[\"185_place_orders_suppliers\"].fillna(\"185_place_orders_suppliers\")\n",
        "data2[\"268_number_fridges\"]=data2[\"268_number_fridges\"].fillna(\"268_number_fridges\")\n",
        "data2[\"53_special_conditions_suppliers\"]=data2[\"53_special_conditions_suppliers\"].fillna(\"53_special_conditions_suppliers\")\n",
        "data2[\"192_procurement_planning_tools\"]=data2[\"192_procurement_planning_tools\"].fillna(\"192_procurement_planning_tools\")\n",
        "data2[\"56_procurement_changes_pandemic\"]=data2[\"56_procurement_changes_pandemic\"].fillna(\"56_procurement_changes_pandemic\")\n",
        "data2[\"277_payment_method_suppliers\"]=data2[\"277_payment_method_suppliers\"].fillna(\"277_payment_method_suppliers\")\n",
        "data2[\"279_changes_procurement_pandemic\"]=data2[\"279_changes_procurement_pandemic\"].fillna(\"279_changes_procurement_pandemic\")\n",
        "data2[\"278_credit_interest\"]=data2[\"278_credit_interest\"].fillna(\"278_credit_interest\")\n",
        "data2[\"pictures_of_shelves_if_possible\"]=data2[\"pictures_of_shelves_if_possible\"].fillna(\"pictures_of_shelves_if_possible\")\n",
        "data2[\"234_willingness_participate_workshop\"]=data2[\"234_willingness_participate_workshop\"].fillna(\"234_willingness_participate_workshop\")\n",
        "data2[\"157_frequency_organize_shelves\"]=data2[\"157_frequency_organize_shelves\"].fillna(\"157_frequency_organize_shelves\")\n",
        "data2[\"158_charact_organize_products_on_shelves\"]=data2[\"158_charact_organize_products_on_shelves\"].fillna(\"158_charact_organize_products_on_shelves\")\n",
        "data2[\"161_actions_stockouts\"]=data2[\"161_actions_stockouts\"].fillna(\"161_actions_stockouts\")\n",
        "data2[\"261_technology_organization\"]=data2[\"261_technology_organization\"].fillna(\"261_technology_organization\")\n",
        "data2[\"162_inventory_extra_space\"]=data2[\"162_inventory_extra_space\"].fillna(\"162_inventory_extra_space\")\n",
        "data2[\"250_technology_investment_operations\"]=data2[\"250_technology_investment_operations\"].fillna(\"250_technology_investment_operations\")\n",
        "data2[\"318_shopkeeper_name\"]=data2[\"318_shopkeeper_name\"].fillna(\"318_shopkeeper_name\")\n",
        "data2[\"249_technology_training\"]=data2[\"249_technology_training\"].fillna(\"249_technology_training\")\n",
        "data2[\"163_number_high_perishable_products\"]=data2[\"163_number_high_perishable_products\"].fillna(\"163_number_high_perishable_products\")\n",
        "data2[\"254_technology_roadmap\"]=data2[\"254_technology_roadmap\"].fillna(\"254_technology_roadmap\")\n",
        "data2[\"260_technology_scalable\"]=data2[\"260_technology_scalable\"].fillna(\"260_technology_scalable\")\n",
        "data2[\"262_technology_serve_customers\"]=data2[\"262_technology_serve_customers\"].fillna(\"262_technology_serve_customers\")\n",
        "data2[\"264_technology_budget\"]=data2[\"264_technology_budget\"].fillna(\"264_technology_budget\")\n",
        "data2[\"263_technology_secure_sales\"]=data2[\"263_technology_secure_sales\"].fillna(\"263_technology_secure_sales\")\n",
        "data2[\"267_technology_investment_customer_preferences\"]=data2[\"267_technology_investment_customer_preferences\"].fillna(\"267_technology_investment_customer_preferences\")\n",
        "data2[\"251_technology_investment_customers\"]=data2[\"251_technology_investment_customers\"].fillna(\"251_technology_investment_customers\")\n",
        "data2['318_shopkeeper_name']=data2['318_shopkeeper_name'].fillna(method='ffill')\n",
        "data2['234_willingness_participate_workshop']=data2['234_willingness_participate_workshop'].fillna(method='ffill')\n",
        "data2['319_shopkeepers_last_name']=data2['319_shopkeepers_last_name'].fillna(method='ffill')\n",
        "data2['235_email']=data2['235_email'].fillna(method='ffill')"
      ],
      "metadata": {
        "id": "NR9oI5fTADih"
      },
      "execution_count": 61,
      "outputs": []
    },
    {
      "cell_type": "code",
      "execution_count": null,
      "metadata": {
        "id": "yGPDW0FHfp-b"
      },
      "outputs": [],
      "source": [
        "valores_nulos=data2.isnull().sum() #volvemos a checar nuestros nulos y podemos ver que ya no tenemos nulos de tipo string \n",
        "valores_nulos"
      ]
    },
    {
      "cell_type": "code",
      "source": [
        "#Generamos la caja de bigote con el fin de ver graficamente nuestros valores atipicos\n",
        "fig=plt.figure(figsize=(15,8)) \n",
        "data2.plot(kind=\"box\",vert=False) \n",
        "plt.title(\"Valores atípicos del DataFrame\") \n",
        "plt.show() "
      ],
      "metadata": {
        "colab": {
          "base_uri": "https://localhost:8080/",
          "height": 298
        },
        "id": "r6vsjmUAh2Q0",
        "outputId": "7637d756-9f2e-40ff-e292-e3a3509f0c05"
      },
      "execution_count": 63,
      "outputs": [
        {
          "output_type": "display_data",
          "data": {
            "text/plain": [
              "<Figure size 1080x576 with 0 Axes>"
            ]
          },
          "metadata": {}
        },
        {
          "output_type": "display_data",
          "data": {
            "text/plain": [
              "<Figure size 432x288 with 1 Axes>"
            ],
            "image/png": "[encoded data removed]"
          },
          "metadata": {
            "needs_background": "light"
          }
        }
      ]
    },
    {
      "cell_type": "code",
      "execution_count": 68,
      "metadata": {
        "colab": {
          "base_uri": "https://localhost:8080/"
        },
        "id": "1GvB_Emnpfxl",
        "outputId": "e5814b69-379e-440a-8b4d-8ef84f5baa40"
      },
      "outputs": [
        {
          "output_type": "stream",
          "name": "stdout",
          "text": [
            "Limite superior permitido 16.0\n",
            "Limite inferior permitido -8.0\n"
          ]
        }
      ],
      "source": [
        "y=data2['104_how_many_shelves_does_the_micro_retailer_have']\n",
        "p25=y.quantile(0.25)\n",
        "p75=y.quantile(0.75)\n",
        "iqr=p75-p25\n",
        "\n",
        "lsi=p75+1.5*iqr\n",
        "lii=p25-1.5*iqr\n",
        "\n",
        "print('Limite superior permitido', lsi)\n",
        "print('Limite inferior permitido', lii)"
      ]
    },
    {
      "cell_type": "code",
      "source": [
        "outliers_iqr=data2[(y>lsi)|(y<lii)] #encuentra los valores que se salen\n",
        "outliers_iqr"
      ],
      "metadata": {
        "id": "QoDVGQOVG1tp"
      },
      "execution_count": null,
      "outputs": []
    },
    {
      "cell_type": "code",
      "source": [
        "outliers1_iqr=data2[(y<lsi)&(y>lii)] #genera el data frame sin valores atipicos\n",
        "outliers1_iqr"
      ],
      "metadata": {
        "id": "7rS-Iq8uG3UP"
      },
      "execution_count": null,
      "outputs": []
    },
    {
      "cell_type": "code",
      "source": [
        "#diagrama de caja de bigote de todo el data\n",
        "fig=plt.figure(figsize=(5,3))\n",
        "plt.boxplot(outliers1_iqr['104_how_many_shelves_does_the_micro_retailer_have'])\n",
        "plt.title('Valores atipicos de cajas entregadas')\n",
        "plt.show()"
      ],
      "metadata": {
        "colab": {
          "base_uri": "https://localhost:8080/",
          "height": 227
        },
        "id": "lxVFdkAYG52R",
        "outputId": "301ccaa7-e6d3-4a24-a983-d4f7c2cd16ac"
      },
      "execution_count": 91,
      "outputs": [
        {
          "output_type": "display_data",
          "data": {
            "text/plain": [
              "<Figure size 360x216 with 1 Axes>"
            ],
            "image/png": "[encoded data removed]"
          },
          "metadata": {
            "needs_background": "light"
          }
        }
      ]
    },
    {
      "cell_type": "code",
      "execution_count": 81,
      "metadata": {
        "colab": {
          "base_uri": "https://localhost:8080/"
        },
        "outputId": "2d778917-a4d5-4b2b-afa3-020b66e13e42",
        "id": "CVDfGqHiGpRx"
      },
      "outputs": [
        {
          "output_type": "stream",
          "name": "stdout",
          "text": [
            "Limite superior permitido 5.0\n",
            "Limite inferior permitido -3.0\n"
          ]
        }
      ],
      "source": [
        "y=data2['268_number_fridges']\n",
        "p25=y.quantile(0.25)\n",
        "p75=y.quantile(0.75)\n",
        "iqr=p75-p25\n",
        "\n",
        "lsi=p75+1.5*iqr\n",
        "lii=p25-1.5*iqr\n",
        "\n",
        "print('Limite superior permitido', lsi)\n",
        "print('Limite inferior permitido', lii)"
      ]
    },
    {
      "cell_type": "code",
      "source": [
        "outliers_iqr=data2[(y>lsi)|(y<lii)] #encuentra los valores que se salen\n",
        "outliers_iqr"
      ],
      "metadata": {
        "id": "O-0O8X7_G1-k"
      },
      "execution_count": null,
      "outputs": []
    },
    {
      "cell_type": "code",
      "source": [
        "outliers1_iqr=data2[(y<lsi)&(y>lii)] #genera el data frame sin valores atipicos\n",
        "outliers1_iqr"
      ],
      "metadata": {
        "id": "BCvctYxmG3sE"
      },
      "execution_count": null,
      "outputs": []
    },
    {
      "cell_type": "code",
      "source": [
        "#diagrama de caja de bigote de todo el data\n",
        "fig=plt.figure(figsize=(5,3))\n",
        "plt.boxplot(outliers1_iqr['268_number_fridges'])\n",
        "plt.title('Valores atipicos de numero de refrigeradores')\n",
        "plt.show()"
      ],
      "metadata": {
        "colab": {
          "base_uri": "https://localhost:8080/",
          "height": 227
        },
        "id": "dVbw__HYG6Nu",
        "outputId": "e31cbcbf-a8a5-4bd0-a9c9-af61f21f34e2"
      },
      "execution_count": 77,
      "outputs": [
        {
          "output_type": "display_data",
          "data": {
            "text/plain": [
              "<Figure size 360x216 with 1 Axes>"
            ],
            "image/png": "[encoded data removed]"
          },
          "metadata": {
            "needs_background": "light"
          }
        }
      ]
    },
    {
      "cell_type": "code",
      "execution_count": 76,
      "metadata": {
        "colab": {
          "base_uri": "https://localhost:8080/"
        },
        "outputId": "68d12f9f-f129-431b-9cfb-879cb8f92c14",
        "id": "_ErodlYBGpUn"
      },
      "outputs": [
        {
          "output_type": "stream",
          "name": "stdout",
          "text": [
            "Limite superior permitido 5.0\n",
            "Limite inferior permitido -3.0\n"
          ]
        }
      ],
      "source": [
        "y=data2['97_number_of_customers_in_store']\n",
        "p25=y.quantile(0.25)\n",
        "p75=y.quantile(0.75)\n",
        "iqr=p75-p25\n",
        "\n",
        "lsi=p75+1.5*iqr\n",
        "lii=p25-1.5*iqr\n",
        "\n",
        "print('Limite superior permitido', lsi)\n",
        "print('Limite inferior permitido', lii)"
      ]
    },
    {
      "cell_type": "code",
      "source": [
        "outliers_iqr=data2[(y>lsi)|(y<lii)] #encuentra los valores que se salen\n",
        "outliers_iqr"
      ],
      "metadata": {
        "id": "jPkXI6kirNpZ"
      },
      "execution_count": null,
      "outputs": []
    },
    {
      "cell_type": "code",
      "source": [
        "outliers1_iqr=data2[(y<lsi)&(y>lii)] #genera el data frame sin valores atipicos\n",
        "outliers1_iqr"
      ],
      "metadata": {
        "id": "2A2VtR19rpDo"
      },
      "execution_count": null,
      "outputs": []
    },
    {
      "cell_type": "code",
      "source": [
        "#diagrama de caja de bigote de todo el data\n",
        "fig=plt.figure(figsize=(5,3))\n",
        "plt.boxplot(outliers1_iqr['97_number_of_customers_in_store'])\n",
        "plt.title('Valores atipicos de clientes en la tienda')\n",
        "plt.show()"
      ],
      "metadata": {
        "colab": {
          "base_uri": "https://localhost:8080/",
          "height": 227
        },
        "id": "UNrVmVGtGWRr",
        "outputId": "67756afb-2298-4f28-e81d-f44b0b16b9cb"
      },
      "execution_count": 80,
      "outputs": [
        {
          "output_type": "display_data",
          "data": {
            "text/plain": [
              "<Figure size 360x216 with 1 Axes>"
            ],
            "image/png": "[encoded data removed]"
          },
          "metadata": {
            "needs_background": "light"
          }
        }
      ]
    },
    {
      "cell_type": "code",
      "execution_count": 96,
      "metadata": {
        "id": "WzlkyltkvKNS"
      },
      "outputs": [],
      "source": [
        "outliers1_iqr.to_csv('Examen_micro.csv')"
      ]
    },
    {
      "cell_type": "code",
      "execution_count": 97,
      "metadata": {
        "colab": {
          "base_uri": "https://localhost:8080/",
          "height": 17
        },
        "id": "xQ2QQiXNv4r5",
        "outputId": "300bacd3-ae84-4fd2-fe3d-cbb874189d78"
      },
      "outputs": [
        {
          "output_type": "display_data",
          "data": {
            "text/plain": [
              "<IPython.core.display.Javascript object>"
            ],
            "application/javascript": [
              "\n",
              "    async function download(id, filename, size) {\n",
              "      if (!google.colab.kernel.accessAllowed) {\n",
              "        return;\n",
              "      }\n",
              "      const div = document.createElement('div');\n",
              "      const label = document.createElement('label');\n",
              "      label.textContent = `Downloading \"${filename}\": `;\n",
              "      div.appendChild(label);\n",
              "      const progress = document.createElement('progress');\n",
              "      progress.max = size;\n",
              "      div.appendChild(progress);\n",
              "      document.body.appendChild(div);\n",
              "\n",
              "      const buffers = [];\n",
              "      let downloaded = 0;\n",
              "\n",
              "      const channel = await google.colab.kernel.comms.open(id);\n",
              "      // Send a message to notify the kernel that we're ready.\n",
              "      channel.send({})\n",
              "\n",
              "      for await (const message of channel.messages) {\n",
              "        // Send a message to notify the kernel that we're ready.\n",
              "        channel.send({})\n",
              "        if (message.buffers) {\n",
              "          for (const buffer of message.buffers) {\n",
              "            buffers.push(buffer);\n",
              "            downloaded += buffer.byteLength;\n",
              "            progress.value = downloaded;\n",
              "          }\n",
              "        }\n",
              "      }\n",
              "      const blob = new Blob(buffers, {type: 'application/binary'});\n",
              "      const a = document.createElement('a');\n",
              "      a.href = window.URL.createObjectURL(blob);\n",
              "      a.download = filename;\n",
              "      div.appendChild(a);\n",
              "      a.click();\n",
              "      div.remove();\n",
              "    }\n",
              "  "
            ]
          },
          "metadata": {}
        },
        {
          "output_type": "display_data",
          "data": {
            "text/plain": [
              "<IPython.core.display.Javascript object>"
            ],
            "application/javascript": [
              "download(\"download_d8d9f52f-0f35-4fec-889d-4cbf2ce44ff6\", \"Examen_micro.csv\", 262914)"
            ]
          },
          "metadata": {}
        }
      ],
      "source": [
        "from google.colab import files \n",
        "files.download('Examen_micro.csv')"
      ]
    }
  ],
  "metadata": {
    "colab": {
      "provenance": [],
      "authorship_tag": "ABX9TyPsjFZ4MrSr+28wty6iJnJ4",
      "include_colab_link": true
    },
    "kernelspec": {
      "display_name": "Python 3",
      "name": "python3"
    },
    "language_info": {
      "name": "python"
    }
  },
  "nbformat": 4,
  "nbformat_minor": 0
}