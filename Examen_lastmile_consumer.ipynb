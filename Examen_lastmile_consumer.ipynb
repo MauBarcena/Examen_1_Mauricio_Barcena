{
  "cells": [
    {
      "cell_type": "markdown",
      "metadata": {
        "id": "view-in-github",
        "colab_type": "text"
      },
      "source": [
        "<a href=\"https://colab.research.google.com/github/MauBarcena/Examen_1_Mauricio_Barcena/blob/main/Examen_lastmile_consumer.ipynb\" target=\"_parent\"><img src=\"https://colab.research.google.com/assets/colab-badge.svg\" alt=\"Open In Colab\"/></a>"
      ]
    },
    {
      "cell_type": "code",
      "execution_count": null,
      "metadata": {
        "id": "O6TjSr4cb3gH"
      },
      "outputs": [],
      "source": [
        "import pandas as pd\n",
        "import numpy as np\n",
        "import matplotlib.pyplot as plt"
      ]
    },
    {
      "cell_type": "code",
      "execution_count": null,
      "metadata": {
        "id": "U3yIAnVKcEY6"
      },
      "outputs": [],
      "source": [
        "from google.colab import files\n",
        "files.upload()\n"
      ]
    },
    {
      "cell_type": "code",
      "execution_count": null,
      "metadata": {
        "id": "4FyMF9O-cwwu"
      },
      "outputs": [],
      "source": [
        "data=pd.read_csv('lastimile_consumer.csv') #leemos los datos para una mejor interpretacion "
      ]
    },
    {
      "cell_type": "code",
      "execution_count": null,
      "metadata": {
        "id": "5nRD6N7Sc4hS"
      },
      "outputs": [],
      "source": [
        "data.info() #desplegamos la información para observar las columnas\n"
      ]
    },
    {
      "cell_type": "code",
      "execution_count": null,
      "metadata": {
        "id": "Kjbb2MtjdaX4"
      },
      "outputs": [],
      "source": [
        "valores_nulos=data.isnull().sum() #Checamos los valores nulos de todo nuestro data frame para trabajar con ellos \n",
        "valores_nulos"
      ]
    },
    {
      "cell_type": "code",
      "execution_count": null,
      "metadata": {
        "id": "_JyDOX84erDI"
      },
      "outputs": [],
      "source": [
        "data1=data.fillna(method='bfill') #eliminamos todos los valores nulos numéricos con el comando bfill para comenzar con el proceso de trabajo \n",
        "data1"
      ]
    },
    {
      "cell_type": "code",
      "execution_count": null,
      "metadata": {
        "id": "w-LaSYpLezgq"
      },
      "outputs": [],
      "source": [
        "valores_nulos=data1.isnull().sum() #Una vez eliminados los nulos procedemos a checar de nuevo para observar como esta nuestro data rame \n",
        "valores_nulos"
      ]
    },
    {
      "cell_type": "code",
      "execution_count": null,
      "metadata": {
        "id": "P7Nw4zMXfE0l"
      },
      "outputs": [],
      "source": [
        "data2=data1.copy()\n",
        "data2=data2.fillna(round(data.mean(),1))\n",
        "data2"
      ]
    },
    {
      "cell_type": "code",
      "source": [
        "data2['picture_cargo_being_delivered']=data2['picture_cargo_being_delivered'].fillna(method='ffill')\n",
        "data2['picture_cargo_being_delivered_captions']=data2['picture_cargo_being_delivered_captions'].fillna(method='ffill')\n",
        "data2['picture_cargo_being_delivered_urls']=data2['picture_cargo_being_delivered_urls'].fillna(method='ffill')"
      ],
      "metadata": {
        "id": "qEb9Yr7BPsde"
      },
      "execution_count": null,
      "outputs": []
    },
    {
      "cell_type": "code",
      "execution_count": null,
      "metadata": {
        "id": "yGPDW0FHfp-b"
      },
      "outputs": [],
      "source": [
        "valores_nulos=data2.isnull().sum()\n",
        "valores_nulos"
      ]
    },
    {
      "cell_type": "code",
      "execution_count": null,
      "metadata": {
        "colab": {
          "base_uri": "https://localhost:8080/",
          "height": 299
        },
        "id": "vnz28mVGgKm4",
        "outputId": "d415415e-920c-4487-8b57-77ba6bf33610"
      },
      "outputs": [
        {
          "output_type": "display_data",
          "data": {
            "text/plain": [
              "<Figure size 1800x1296 with 0 Axes>"
            ]
          },
          "metadata": {}
        },
        {
          "output_type": "display_data",
          "data": {
            "text/plain": [
              "<Figure size 432x288 with 1 Axes>"
            ],
            "image/png": "[encoded data removed]"
          },
          "metadata": {
            "needs_background": "light"
          }
        }
      ],
      "source": [
        "#diagrama de caja de bigote de todo el data\n",
        "fig=plt.figure(figsize=(25,18))\n",
        "data2.plot(kind='box',vert=False)\n",
        "plt.title('Valores Atipicos del dataframe')\n",
        "plt.show()"
      ]
    },
    {
      "cell_type": "code",
      "execution_count": null,
      "metadata": {
        "colab": {
          "base_uri": "https://localhost:8080/"
        },
        "id": "1GvB_Emnpfxl",
        "outputId": "3a20fceb-1001-4f79-f27e-dc76451b366a"
      },
      "outputs": [
        {
          "output_type": "stream",
          "name": "stdout",
          "text": [
            "Limite superior permitido 12.0\n",
            "Limite inferior permitido -4.0\n"
          ]
        }
      ],
      "source": [
        "y=data2['number_of_cases_boxes_delivered']\n",
        "p25=y.quantile(0.25)\n",
        "p75=y.quantile(0.75)\n",
        "iqr=p75-p25\n",
        "\n",
        "lsi=p75+1.5*iqr\n",
        "lii=p25-1.5*iqr\n",
        "\n",
        "print('Limite superior permitido', lsi)\n",
        "print('Limite inferior permitido', lii)"
      ]
    },
    {
      "cell_type": "code",
      "source": [
        "outliers_iqr=data2[(y>lsi)|(y<lii)] #encuentra los valores que se salen\n",
        "outliers_iqr"
      ],
      "metadata": {
        "id": "jPkXI6kirNpZ"
      },
      "execution_count": null,
      "outputs": []
    },
    {
      "cell_type": "code",
      "source": [
        "outliers1_iqr=data2[(y<lsi)&(y>lii)] #genera el data frame sin valores atipicos\n",
        "outliers1_iqr\n"
      ],
      "metadata": {
        "id": "2A2VtR19rpDo"
      },
      "execution_count": null,
      "outputs": []
    },
    {
      "cell_type": "code",
      "source": [
        "#diagrama de caja de bigote de todo el data\n",
        "fig=plt.figure(figsize=(5,3))\n",
        "plt.boxplot(outliers1_iqr['number_of_cases_boxes_delivered'])\n",
        "plt.title('Valores atipicos de frecuencia comprando en tienda')\n",
        "plt.show()"
      ],
      "metadata": {
        "colab": {
          "base_uri": "https://localhost:8080/",
          "height": 227
        },
        "id": "FZbzN1PLoDv1",
        "outputId": "6af35ed5-f954-4ff0-e1fa-e96eaf145cd4"
      },
      "execution_count": null,
      "outputs": [
        {
          "output_type": "display_data",
          "data": {
            "text/plain": [
              "<Figure size 360x216 with 1 Axes>"
            ],
            "image/png": "[encoded data removed]"
          },
          "metadata": {
            "needs_background": "light"
          }
        }
      ]
    },
    {
      "cell_type": "code",
      "execution_count": null,
      "metadata": {
        "colab": {
          "base_uri": "https://localhost:8080/"
        },
        "id": "GRIP2BY14AaM",
        "outputId": "57278173-5c52-43b7-8e53-57e5404c9ee3"
      },
      "outputs": [
        {
          "output_type": "stream",
          "name": "stdout",
          "text": [
            "Limite superior permitido 3.5\n",
            "Limite inferior permitido -0.5\n"
          ]
        }
      ],
      "source": [
        "y=data2['number_of_suppliers_in_store']\n",
        "p25=y.quantile(0.25)\n",
        "p75=y.quantile(0.75)\n",
        "iqr=p75-p25\n",
        "\n",
        "lsi=p75+1.5*iqr\n",
        "lii=p25-1.5*iqr\n",
        "\n",
        "print('Limite superior permitido', lsi)\n",
        "print('Limite inferior permitido', lii)"
      ]
    },
    {
      "cell_type": "code",
      "source": [
        "outliers_iqr=data2[(y>lsi)|(y<lii)] #encuentra los valores que se salen\n",
        "outliers_iqr"
      ],
      "metadata": {
        "id": "jF-5Arrq4iVu"
      },
      "execution_count": null,
      "outputs": []
    },
    {
      "cell_type": "code",
      "source": [
        "outliers1_iqr=data2[(y<lsi)&(y>lii)] #genera el data frame sin valores atipicos\n",
        "outliers1_iqr\n"
      ],
      "metadata": {
        "id": "WmNDjjJi4mry"
      },
      "execution_count": null,
      "outputs": []
    },
    {
      "cell_type": "code",
      "source": [
        "#diagrama de caja de bigote de todo el data\n",
        "fig=plt.figure(figsize=(5,3))\n",
        "plt.boxplot(outliers1_iqr['number_of_suppliers_in_store'])\n",
        "plt.title('Valores atipicos de frecuencia comprando en tienda')\n",
        "plt.show()"
      ],
      "metadata": {
        "colab": {
          "base_uri": "https://localhost:8080/",
          "height": 227
        },
        "outputId": "ba626c0b-ac0d-4a65-de8b-adaf17dd052f",
        "id": "MqaeHS4x5QbJ"
      },
      "execution_count": null,
      "outputs": [
        {
          "output_type": "display_data",
          "data": {
            "text/plain": [
              "<Figure size 360x216 with 1 Axes>"
            ],
            "image/png": "[encoded data removed]"
          },
          "metadata": {
            "needs_background": "light"
          }
        }
      ]
    },
    {
      "cell_type": "code",
      "execution_count": null,
      "metadata": {
        "colab": {
          "base_uri": "https://localhost:8080/"
        },
        "id": "qIbFjWjy4Ahi",
        "outputId": "3d8b6b27-1249-4c5c-c2d9-90ec3b1e5c97"
      },
      "outputs": [
        {
          "output_type": "stream",
          "name": "stdout",
          "text": [
            "Limite superior permitido 5.0\n",
            "Limite inferior permitido -3.0\n"
          ]
        }
      ],
      "source": [
        "y=data2['number_of_customers_in_store']\n",
        "p25=y.quantile(0.25)\n",
        "p75=y.quantile(0.75)\n",
        "iqr=p75-p25\n",
        "\n",
        "lsi=p75+1.5*iqr\n",
        "lii=p25-1.5*iqr\n",
        "\n",
        "print('Limite superior permitido', lsi)\n",
        "print('Limite inferior permitido', lii)"
      ]
    },
    {
      "cell_type": "code",
      "source": [
        "outliers_iqr=data2[(y>lsi)|(y<lii)] #encuentra los valores que se salen\n",
        "outliers_iqr"
      ],
      "metadata": {
        "id": "at-o-ur_4itg"
      },
      "execution_count": null,
      "outputs": []
    },
    {
      "cell_type": "code",
      "source": [
        "outliers1_iqr=data2[(y<lsi)&(y>lii)] #genera el data frame sin valores atipicos\n",
        "outliers1_iqr\n"
      ],
      "metadata": {
        "id": "SXmsMXS-4nSr"
      },
      "execution_count": null,
      "outputs": []
    },
    {
      "cell_type": "code",
      "source": [
        "#diagrama de caja de bigote de todo el data\n",
        "fig=plt.figure(figsize=(5,3))\n",
        "plt.boxplot(outliers1_iqr['number_of_customers_in_store'])\n",
        "plt.title('Valores atipicos de frecuencia comprando en tienda')\n",
        "plt.show()"
      ],
      "metadata": {
        "id": "xQyhZDlF5Q3j"
      },
      "execution_count": null,
      "outputs": []
    },
    {
      "cell_type": "code",
      "execution_count": null,
      "metadata": {
        "colab": {
          "base_uri": "https://localhost:8080/"
        },
        "id": "PTNPFU4t4Anr",
        "outputId": "12a6bd2c-309e-49b9-8261-6ce889734db9"
      },
      "outputs": [
        {
          "output_type": "stream",
          "name": "stdout",
          "text": [
            "Limite superior permitido 172.0\n",
            "Limite inferior permitido -32.0\n"
          ]
        }
      ],
      "source": [
        "y=data2['_edited_duration']\n",
        "p25=y.quantile(0.25)\n",
        "p75=y.quantile(0.75)\n",
        "iqr=p75-p25\n",
        "\n",
        "lsi=p75+1.5*iqr\n",
        "lii=p25-1.5*iqr\n",
        "\n",
        "print('Limite superior permitido', lsi)\n",
        "print('Limite inferior permitido', lii)"
      ]
    },
    {
      "cell_type": "code",
      "source": [
        "outliers_iqr=data2[(y>lsi)|(y<lii)] #encuentra los valores que se salen\n",
        "outliers_iqr"
      ],
      "metadata": {
        "id": "ac2-ClUZ4jDV"
      },
      "execution_count": null,
      "outputs": []
    },
    {
      "cell_type": "code",
      "source": [
        "outliers1_iqr=data2[(y<lsi)&(y>lii)] #genera el data frame sin valores atipicos\n",
        "outliers1_iqr\n"
      ],
      "metadata": {
        "id": "4zwz9er54nq3"
      },
      "execution_count": null,
      "outputs": []
    },
    {
      "cell_type": "code",
      "source": [
        "#diagrama de caja de bigote de todo el data\n",
        "fig=plt.figure(figsize=(5,3))\n",
        "plt.boxplot(outliers1_iqr['_edited_duration'])\n",
        "plt.title('Valores atipicos de frecuencia comprando en tienda')\n",
        "plt.show()"
      ],
      "metadata": {
        "colab": {
          "base_uri": "https://localhost:8080/",
          "height": 227
        },
        "outputId": "25b31004-131b-447c-d98a-7cfff8506780",
        "id": "9D6W-HdL5Rch"
      },
      "execution_count": null,
      "outputs": [
        {
          "output_type": "display_data",
          "data": {
            "text/plain": [
              "<Figure size 360x216 with 1 Axes>"
            ],
            "image/png": "[encoded data removed]"
          },
          "metadata": {
            "needs_background": "light"
          }
        }
      ]
    },
    {
      "cell_type": "code",
      "execution_count": null,
      "metadata": {
        "colab": {
          "base_uri": "https://localhost:8080/"
        },
        "id": "HpK7hc5I4Ate",
        "outputId": "892424fd-72b2-491a-aebe-c8e540eb5399"
      },
      "outputs": [
        {
          "output_type": "stream",
          "name": "stdout",
          "text": [
            "Limite superior permitido 177.25\n",
            "Limite inferior permitido -40.75\n"
          ]
        }
      ],
      "source": [
        "y=data2['_updated_duration']\n",
        "p25=y.quantile(0.25)\n",
        "p75=y.quantile(0.75)\n",
        "iqr=p75-p25\n",
        "\n",
        "lsi=p75+1.5*iqr\n",
        "lii=p25-1.5*iqr\n",
        "\n",
        "print('Limite superior permitido', lsi)\n",
        "print('Limite inferior permitido', lii)"
      ]
    },
    {
      "cell_type": "code",
      "source": [
        "outliers_iqr=data2[(y>lsi)|(y<lii)] #encuentra los valores que se salen\n",
        "outliers_iqr"
      ],
      "metadata": {
        "id": "FjPiXu_f4jX4"
      },
      "execution_count": null,
      "outputs": []
    },
    {
      "cell_type": "code",
      "source": [
        "outliers1_iqr=data2[(y<lsi)&(y>lii)] #genera el data frame sin valores atipicos\n",
        "outliers1_iqr\n"
      ],
      "metadata": {
        "id": "cP2bWL2d4oNe"
      },
      "execution_count": null,
      "outputs": []
    },
    {
      "cell_type": "code",
      "source": [
        "#diagrama de caja de bigote de todo el data\n",
        "fig=plt.figure(figsize=(5,3))\n",
        "plt.boxplot(outliers1_iqr['_updated_duration'])\n",
        "plt.title('Valores atipicos de frecuencia comprando en tienda')\n",
        "plt.show()"
      ],
      "metadata": {
        "id": "7hiyN82N5R-G"
      },
      "execution_count": null,
      "outputs": []
    },
    {
      "cell_type": "code",
      "execution_count": null,
      "metadata": {
        "colab": {
          "base_uri": "https://localhost:8080/"
        },
        "id": "yr3g9q2n4Azs",
        "outputId": "84f967e1-77f0-466c-e12d-f28308faba5a"
      },
      "outputs": [
        {
          "output_type": "stream",
          "name": "stdout",
          "text": [
            "Limite superior permitido 0.0\n",
            "Limite inferior permitido 0.0\n"
          ]
        }
      ],
      "source": [
        "y=data2['_created_duration']\n",
        "p25=y.quantile(0.25)\n",
        "p75=y.quantile(0.75)\n",
        "iqr=p75-p25\n",
        "\n",
        "lsi=p75+1.5*iqr\n",
        "lii=p25-1.5*iqr\n",
        "\n",
        "print('Limite superior permitido', lsi)\n",
        "print('Limite inferior permitido', lii)"
      ]
    },
    {
      "cell_type": "code",
      "source": [
        "outliers_iqr=data2[(y>lsi)|(y<lii)] #encuentra los valores que se salen\n",
        "outliers_iqr"
      ],
      "metadata": {
        "id": "Ks78mq394jyc"
      },
      "execution_count": null,
      "outputs": []
    },
    {
      "cell_type": "code",
      "source": [
        "outliers1_iqr=data2[(y<lsi)&(y>lii)] #genera el data frame sin valores atipicos\n",
        "outliers1_iqr\n"
      ],
      "metadata": {
        "id": "nx44db1S4om0"
      },
      "execution_count": null,
      "outputs": []
    },
    {
      "cell_type": "code",
      "source": [
        "#diagrama de caja de bigote de todo el data\n",
        "fig=plt.figure(figsize=(5,3))\n",
        "plt.boxplot(outliers1_iqr['_created_duration'])\n",
        "plt.title('Valores atipicos de frecuencia comprando en tienda')\n",
        "plt.show()"
      ],
      "metadata": {
        "colab": {
          "base_uri": "https://localhost:8080/",
          "height": 227
        },
        "outputId": "2d6e1384-e860-4d95-a13d-d462b8001fd8",
        "id": "2owA0qSP5SmD"
      },
      "execution_count": null,
      "outputs": [
        {
          "output_type": "display_data",
          "data": {
            "text/plain": [
              "<Figure size 360x216 with 1 Axes>"
            ],
            "image/png": "[encoded data removed]"
          },
          "metadata": {
            "needs_background": "light"
          }
        }
      ]
    },
    {
      "cell_type": "code",
      "execution_count": null,
      "metadata": {
        "id": "WzlkyltkvKNS"
      },
      "outputs": [],
      "source": [
        "outliers1_iqr.to_csv('Examen_lastmile_consumer.csv')"
      ]
    },
    {
      "cell_type": "code",
      "execution_count": null,
      "metadata": {
        "colab": {
          "base_uri": "https://localhost:8080/",
          "height": 17
        },
        "id": "xQ2QQiXNv4r5",
        "outputId": "da6965e1-1975-4907-9691-4f474b96b73b"
      },
      "outputs": [
        {
          "output_type": "display_data",
          "data": {
            "text/plain": [
              "<IPython.core.display.Javascript object>"
            ],
            "application/javascript": [
              "\n",
              "    async function download(id, filename, size) {\n",
              "      if (!google.colab.kernel.accessAllowed) {\n",
              "        return;\n",
              "      }\n",
              "      const div = document.createElement('div');\n",
              "      const label = document.createElement('label');\n",
              "      label.textContent = `Downloading \"${filename}\": `;\n",
              "      div.appendChild(label);\n",
              "      const progress = document.createElement('progress');\n",
              "      progress.max = size;\n",
              "      div.appendChild(progress);\n",
              "      document.body.appendChild(div);\n",
              "\n",
              "      const buffers = [];\n",
              "      let downloaded = 0;\n",
              "\n",
              "      const channel = await google.colab.kernel.comms.open(id);\n",
              "      // Send a message to notify the kernel that we're ready.\n",
              "      channel.send({})\n",
              "\n",
              "      for await (const message of channel.messages) {\n",
              "        // Send a message to notify the kernel that we're ready.\n",
              "        channel.send({})\n",
              "        if (message.buffers) {\n",
              "          for (const buffer of message.buffers) {\n",
              "            buffers.push(buffer);\n",
              "            downloaded += buffer.byteLength;\n",
              "            progress.value = downloaded;\n",
              "          }\n",
              "        }\n",
              "      }\n",
              "      const blob = new Blob(buffers, {type: 'application/binary'});\n",
              "      const a = document.createElement('a');\n",
              "      a.href = window.URL.createObjectURL(blob);\n",
              "      a.download = filename;\n",
              "      div.appendChild(a);\n",
              "      a.click();\n",
              "      div.remove();\n",
              "    }\n",
              "  "
            ]
          },
          "metadata": {}
        },
        {
          "output_type": "display_data",
          "data": {
            "text/plain": [
              "<IPython.core.display.Javascript object>"
            ],
            "application/javascript": [
              "download(\"download_eccaf972-7ba4-488e-9f4c-8d72b630f2f1\", \"Examen_lastmile_consumer.csv\", 473)"
            ]
          },
          "metadata": {}
        }
      ],
      "source": [
        "from google.colab import files \n",
        "files.download('Examen_lastmile_consumer.csv')"
      ]
    }
  ],
  "metadata": {
    "colab": {
      "provenance": [],
      "authorship_tag": "ABX9TyOu4JFArL7MMbaL0yQ/QGmq",
      "include_colab_link": true
    },
    "kernelspec": {
      "display_name": "Python 3",
      "name": "python3"
    },
    "language_info": {
      "name": "python"
    }
  },
  "nbformat": 4,
  "nbformat_minor": 0
}